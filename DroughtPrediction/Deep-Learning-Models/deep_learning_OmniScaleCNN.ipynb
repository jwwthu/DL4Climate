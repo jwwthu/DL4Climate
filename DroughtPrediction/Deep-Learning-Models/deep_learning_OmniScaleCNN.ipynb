{
 "cells": [
  {
   "cell_type": "code",
   "execution_count": 1,
   "id": "waiting-checkout",
   "metadata": {},
   "outputs": [
    {
     "name": "stderr",
     "output_type": "stream",
     "text": [
      "C:\\Users\\eason\\AppData\\Roaming\\Python\\Python37\\site-packages\\numpy\\_distributor_init.py:32: UserWarning: loaded more than 1 DLL from .libs:\n",
      "C:\\Users\\eason\\AppData\\Roaming\\Python\\Python37\\site-packages\\numpy\\.libs\\libopenblas.JPIJNSWNNAN3CE6LLI5FWSPHUT2VXMTH.gfortran-win_amd64.dll\n",
      "C:\\Users\\eason\\AppData\\Roaming\\Python\\Python37\\site-packages\\numpy\\.libs\\libopenblas.NOIJJG62EMASZI6NYURL6JBKM4EVBGM7.gfortran-win_amd64.dll\n",
      "C:\\Users\\eason\\AppData\\Roaming\\Python\\Python37\\site-packages\\numpy\\.libs\\libopenblas.TXA6YQSD3GCQQC22GEQ54J2UDCXDXHWN.gfortran-win_amd64.dll\n",
      "  stacklevel=1)\n"
     ]
    },
    {
     "name": "stdout",
     "output_type": "stream",
     "text": [
      "tsai       : 0.2.15\n",
      "fastai     : 2.2.5\n",
      "fastcore   : 1.3.19\n",
      "torch      : 1.7.1+cu101\n"
     ]
    }
   ],
   "source": [
    "import tsai\n",
    "from tsai.all import *\n",
    "print('tsai       :', tsai.__version__)\n",
    "print('fastai     :', fastai.__version__)\n",
    "print('fastcore   :', fastcore.__version__)\n",
    "print('torch      :', torch.__version__)"
   ]
  },
  {
   "cell_type": "markdown",
   "id": "intermediate-karaoke",
   "metadata": {},
   "source": [
    "# 0. load data"
   ]
  },
  {
   "cell_type": "code",
   "execution_count": 2,
   "id": "nominated-wayne",
   "metadata": {},
   "outputs": [],
   "source": [
    "input_fn = 'F:\\\\Github\\\\kaggle drought\\\\data_ndarray.npz'"
   ]
  },
  {
   "cell_type": "code",
   "execution_count": 3,
   "id": "brilliant-softball",
   "metadata": {},
   "outputs": [],
   "source": [
    "data = np.load(open(input_fn, 'rb'))"
   ]
  },
  {
   "cell_type": "code",
   "execution_count": 4,
   "id": "civic-avatar",
   "metadata": {},
   "outputs": [],
   "source": [
    "X_train = data['X_train']"
   ]
  },
  {
   "cell_type": "code",
   "execution_count": 5,
   "id": "tropical-granny",
   "metadata": {},
   "outputs": [
    {
     "data": {
      "text/plain": [
       "(118024, 90, 18)"
      ]
     },
     "execution_count": 5,
     "metadata": {},
     "output_type": "execute_result"
    }
   ],
   "source": [
    "X_train.shape"
   ]
  },
  {
   "cell_type": "code",
   "execution_count": 6,
   "id": "cordless-brighton",
   "metadata": {},
   "outputs": [
    {
     "name": "stdout",
     "output_type": "stream",
     "text": [
      "1.1619668e-07\n"
     ]
    }
   ],
   "source": [
    "print(np.mean(X_train.flatten()))"
   ]
  },
  {
   "cell_type": "code",
   "execution_count": 7,
   "id": "vital-castle",
   "metadata": {},
   "outputs": [
    {
     "name": "stdout",
     "output_type": "stream",
     "text": [
      "1.0000005\n"
     ]
    }
   ],
   "source": [
    "print(np.std(X_train.flatten()))"
   ]
  },
  {
   "cell_type": "code",
   "execution_count": 8,
   "id": "current-japan",
   "metadata": {},
   "outputs": [],
   "source": [
    "X_valid = data['X_valid']"
   ]
  },
  {
   "cell_type": "code",
   "execution_count": 9,
   "id": "sharing-statistics",
   "metadata": {},
   "outputs": [],
   "source": [
    "X_test = data['X_test']"
   ]
  },
  {
   "cell_type": "code",
   "execution_count": 10,
   "id": "opened-committee",
   "metadata": {},
   "outputs": [],
   "source": [
    "y_train = data['y_train']\n",
    "y_train = np.array([int(i) for i in y_train])"
   ]
  },
  {
   "cell_type": "code",
   "execution_count": 11,
   "id": "federal-south",
   "metadata": {},
   "outputs": [],
   "source": [
    "y_valid = data['y_valid']\n",
    "y_valid = np.array([int(i) for i in y_valid])"
   ]
  },
  {
   "cell_type": "code",
   "execution_count": 12,
   "id": "alien-allen",
   "metadata": {},
   "outputs": [],
   "source": [
    "y_test = data['y_test']\n",
    "y_test = np.array([int(i) for i in y_test])"
   ]
  },
  {
   "cell_type": "markdown",
   "id": "touched-wellington",
   "metadata": {},
   "source": [
    "We need to exchange two axes：\n",
    "* **number of samples**\n",
    "* **number of features** (aka variables, dimensions, channels)\n",
    "* **number of steps** (or length, time steps, sequence steps)"
   ]
  },
  {
   "cell_type": "code",
   "execution_count": 13,
   "id": "decent-ordinary",
   "metadata": {},
   "outputs": [
    {
     "data": {
      "text/plain": [
       "(118024, 18, 90)"
      ]
     },
     "execution_count": 13,
     "metadata": {},
     "output_type": "execute_result"
    }
   ],
   "source": [
    "X_train = X_train.transpose(0, 2, 1)\n",
    "X_train.shape"
   ]
  },
  {
   "cell_type": "code",
   "execution_count": 14,
   "id": "greenhouse-detroit",
   "metadata": {},
   "outputs": [
    {
     "data": {
      "text/plain": [
       "(20721, 18, 90)"
      ]
     },
     "execution_count": 14,
     "metadata": {},
     "output_type": "execute_result"
    }
   ],
   "source": [
    "X_valid = X_valid.transpose(0, 2, 1)\n",
    "X_valid.shape"
   ]
  },
  {
   "cell_type": "code",
   "execution_count": 15,
   "id": "ambient-range",
   "metadata": {},
   "outputs": [
    {
     "data": {
      "text/plain": [
       "(102430, 18, 90)"
      ]
     },
     "execution_count": 15,
     "metadata": {},
     "output_type": "execute_result"
    }
   ],
   "source": [
    "X_test = X_test.transpose(0, 2, 1)\n",
    "X_test.shape"
   ]
  },
  {
   "cell_type": "markdown",
   "id": "sharing-disabled",
   "metadata": {},
   "source": [
    "We already have the split:"
   ]
  },
  {
   "cell_type": "code",
   "execution_count": 16,
   "id": "valid-region",
   "metadata": {},
   "outputs": [],
   "source": [
    "X, y, splits = combine_split_data([X_train, X_valid], [y_train, y_valid])"
   ]
  },
  {
   "cell_type": "code",
   "execution_count": 17,
   "id": "reported-coating",
   "metadata": {},
   "outputs": [
    {
     "data": {
      "text/plain": [
       "(138745, 18, 90)"
      ]
     },
     "execution_count": 17,
     "metadata": {},
     "output_type": "execute_result"
    }
   ],
   "source": [
    "X.shape"
   ]
  },
  {
   "cell_type": "code",
   "execution_count": 18,
   "id": "adaptive-buffer",
   "metadata": {},
   "outputs": [
    {
     "data": {
      "text/plain": [
       "(138745,)"
      ]
     },
     "execution_count": 18,
     "metadata": {},
     "output_type": "execute_result"
    }
   ],
   "source": [
    "y.shape"
   ]
  },
  {
   "cell_type": "code",
   "execution_count": 19,
   "id": "pretty-trunk",
   "metadata": {},
   "outputs": [
    {
     "data": {
      "text/plain": [
       "((#118024) [0,1,2,3,4,5,6,7,8,9...],\n",
       " (#20721) [118024,118025,118026,118027,118028,118029,118030,118031,118032,118033...])"
      ]
     },
     "execution_count": 19,
     "metadata": {},
     "output_type": "execute_result"
    }
   ],
   "source": [
    "splits"
   ]
  },
  {
   "cell_type": "code",
   "execution_count": 20,
   "id": "still-signal",
   "metadata": {},
   "outputs": [
    {
     "data": {
      "text/plain": [
       "(#138745) [(TSTensor(vars:18, len:90), TensorCategory(2, dtype=torch.int32)),(TSTensor(vars:18, len:90), TensorCategory(0, dtype=torch.int32)),(TSTensor(vars:18, len:90), TensorCategory(1, dtype=torch.int32)),(TSTensor(vars:18, len:90), TensorCategory(0, dtype=torch.int32)),(TSTensor(vars:18, len:90), TensorCategory(0, dtype=torch.int32)),(TSTensor(vars:18, len:90), TensorCategory(0, dtype=torch.int32)),(TSTensor(vars:18, len:90), TensorCategory(2, dtype=torch.int32)),(TSTensor(vars:18, len:90), TensorCategory(0, dtype=torch.int32)),(TSTensor(vars:18, len:90), TensorCategory(0, dtype=torch.int32)),(TSTensor(vars:18, len:90), TensorCategory(1, dtype=torch.int32))...]"
      ]
     },
     "execution_count": 20,
     "metadata": {},
     "output_type": "execute_result"
    }
   ],
   "source": [
    "tfms  = [None, [Categorize()]]\n",
    "dsets = TSDatasets(X, y, tfms=tfms, splits=splits, inplace=True)\n",
    "dsets"
   ]
  },
  {
   "cell_type": "markdown",
   "id": "reflected-dover",
   "metadata": {},
   "source": [
    "# 1. Model and Hyperparameter Tuning"
   ]
  },
  {
   "cell_type": "code",
   "execution_count": 21,
   "id": "adequate-delight",
   "metadata": {},
   "outputs": [
    {
     "name": "stdout",
     "output_type": "stream",
     "text": [
      "0.2.5\n"
     ]
    }
   ],
   "source": [
    "import hyperopt\n",
    "print(hyperopt.__version__)"
   ]
  },
  {
   "cell_type": "code",
   "execution_count": 22,
   "id": "faced-constraint",
   "metadata": {},
   "outputs": [],
   "source": [
    "from hyperopt import Trials, STATUS_OK, STATUS_FAIL, tpe, fmin, hp"
   ]
  },
  {
   "cell_type": "code",
   "execution_count": 23,
   "id": "exclusive-berkeley",
   "metadata": {},
   "outputs": [],
   "source": [
    "search_space = {\n",
    "    'batch_size': hp.choice('bs', [256, 512, 1024]),\n",
    "    'time_steps': hp.choice('ts', [30, 60, 90]),  # lookback window size\n",
    "    \"lr\": hp.choice('lr', [0.1, 0.01, 0.001, 0.0001]),\n",
    "    \"epochs\": hp.choice('epochs', [10, 50, 100]),  # we would also use early stopping\n",
    "    \"patience\": hp.choice('patience', [5, 10]),  # early stopping patience\n",
    "    \"optimizer\": hp.choice('optimizer', [Adam, SGD, RMSProp])  # https://docs.fast.ai/optimizer\n",
    "    # model parameters\n",
    "}"
   ]
  },
  {
   "cell_type": "code",
   "execution_count": 24,
   "id": "beautiful-israel",
   "metadata": {},
   "outputs": [
    {
     "data": {
      "text/plain": [
       "{'batch_size': <hyperopt.pyll.base.Apply at 0x2757daaa348>,\n",
       " 'time_steps': <hyperopt.pyll.base.Apply at 0x2757daaa988>,\n",
       " 'lr': <hyperopt.pyll.base.Apply at 0x2757daa5108>,\n",
       " 'epochs': <hyperopt.pyll.base.Apply at 0x2757daa5708>,\n",
       " 'patience': <hyperopt.pyll.base.Apply at 0x2757daa5c88>,\n",
       " 'optimizer': <hyperopt.pyll.base.Apply at 0x2757daa72c8>}"
      ]
     },
     "execution_count": 24,
     "metadata": {},
     "output_type": "execute_result"
    }
   ],
   "source": [
    "search_space"
   ]
  },
  {
   "cell_type": "code",
   "execution_count": 25,
   "id": "martial-column",
   "metadata": {},
   "outputs": [
    {
     "data": {
      "text/plain": [
       "(138745, 18, 90)"
      ]
     },
     "execution_count": 25,
     "metadata": {},
     "output_type": "execute_result"
    }
   ],
   "source": [
    "X.shape"
   ]
  },
  {
   "cell_type": "code",
   "execution_count": 26,
   "id": "european-soviet",
   "metadata": {},
   "outputs": [],
   "source": [
    "time_steps = 30"
   ]
  },
  {
   "cell_type": "code",
   "execution_count": 27,
   "id": "constant-vietnamese",
   "metadata": {},
   "outputs": [
    {
     "data": {
      "text/plain": [
       "(138745, 18, 30)"
      ]
     },
     "execution_count": 27,
     "metadata": {},
     "output_type": "execute_result"
    }
   ],
   "source": [
    "X[:, :, -time_steps:].shape"
   ]
  },
  {
   "cell_type": "code",
   "execution_count": 28,
   "id": "comparable-technology",
   "metadata": {},
   "outputs": [
    {
     "data": {
      "text/plain": [
       "(102430, 18, 30)"
      ]
     },
     "execution_count": 28,
     "metadata": {},
     "output_type": "execute_result"
    }
   ],
   "source": [
    "X_test[:, :, -time_steps:].shape"
   ]
  },
  {
   "cell_type": "code",
   "execution_count": 29,
   "id": "fundamental-screening",
   "metadata": {},
   "outputs": [],
   "source": [
    "X, y, splits = combine_split_data([X_train, X_valid], [y_train, y_valid])"
   ]
  },
  {
   "cell_type": "code",
   "execution_count": 30,
   "id": "mature-warrior",
   "metadata": {},
   "outputs": [],
   "source": [
    "import time\n",
    "from fastai.callback.tracker import EarlyStoppingCallback"
   ]
  },
  {
   "cell_type": "code",
   "execution_count": 31,
   "id": "auburn-station",
   "metadata": {},
   "outputs": [],
   "source": [
    "import gc"
   ]
  },
  {
   "cell_type": "code",
   "execution_count": 32,
   "id": "chief-sacrifice",
   "metadata": {},
   "outputs": [
    {
     "data": {
      "text/plain": [
       "212"
      ]
     },
     "execution_count": 32,
     "metadata": {},
     "output_type": "execute_result"
    }
   ],
   "source": [
    "# clear memory \n",
    "gc.collect()"
   ]
  },
  {
   "cell_type": "code",
   "execution_count": 33,
   "id": "parental-telephone",
   "metadata": {},
   "outputs": [],
   "source": [
    "def create_model_hypopt(params):\n",
    "    \n",
    "    try:\n",
    "        # clear memory \n",
    "        gc.collect()\n",
    "        print(\"Trying params:\",params)\n",
    "        batch_size = params[\"batch_size\"]\n",
    "        time_steps = params[\"time_steps\"]\n",
    "    \n",
    "        # Create data loader\n",
    "        tfms  = [None, [Categorize()]]\n",
    "        dsets = TSDatasets(X[:, :, -time_steps:], y, tfms=tfms, splits=splits, inplace=True)\n",
    "        # set num_workers for memory bottleneck\n",
    "        dls   = TSDataLoaders.from_dsets(dsets.train, dsets.valid, bs=[batch_size, batch_size], num_workers=0)\n",
    "    \n",
    "        # Create model\n",
    "        arch = OmniScaleCNN\n",
    "        k = {}\n",
    "        model = create_model(arch, dls=dls, **k)\n",
    "        print(model.__class__.__name__)\n",
    "    \n",
    "        # Training the model\n",
    "        learn = Learner(dls, model, metrics=accuracy, opt_func=params['optimizer'])\n",
    "        start = time.time()\n",
    "        learn.fit_one_cycle(params['epochs'], lr_max=params['lr'],\n",
    "                            cbs=EarlyStoppingCallback(monitor='valid_loss', min_delta=0.0, patience=params['patience']))\n",
    "        learn.plot_metrics()\n",
    "        elapsed = time.time() - start\n",
    "    \n",
    "        vals = learn.recorder.values[-1]\n",
    "        # vals[0], vals[1], vals[2]\n",
    "        # train loss, valid loss, accuracy\n",
    "        val_loss = vals[1]\n",
    "    \n",
    "        # delete tmp variables\n",
    "        del dls\n",
    "        del model\n",
    "        del learn\n",
    "        return {'loss': val_loss, 'status': STATUS_OK} # if accuracy use '-' sign, model is optional\n",
    "    except:\n",
    "        return {'loss': None, 'status': STATUS_FAIL}"
   ]
  },
  {
   "cell_type": "markdown",
   "id": "divided-category",
   "metadata": {},
   "source": [
    "Search the parameters:"
   ]
  },
  {
   "cell_type": "code",
   "execution_count": 34,
   "id": "instructional-albuquerque",
   "metadata": {},
   "outputs": [
    {
     "name": "stdout",
     "output_type": "stream",
     "text": [
      "Trying params:                                                                                                         \n",
      "{'batch_size': 512, 'epochs': 50, 'lr': 0.001, 'optimizer': <function RMSProp at 0x00000274E06BB1F8>, 'patience': 5, 'time_steps': 90}\n",
      "Trying params:                                                                                                         \n",
      "{'batch_size': 1024, 'epochs': 50, 'lr': 0.001, 'optimizer': <function Adam at 0x00000274E06BB438>, 'patience': 5, 'time_steps': 60}\n",
      "OmniScaleCNN                                                                                                           \n",
      "  3%|██▏                                                                | 1/30 [00:52<13:06, 27.10s/trial, best loss=?]"
     ]
    },
    {
     "data": {
      "text/html": [
       "\n",
       "    <div>\n",
       "        <style>\n",
       "            /* Turns off some styling */\n",
       "            progress {\n",
       "                /* gets rid of default border in Firefox and Opera. */\n",
       "                border: none;\n",
       "                /* Needs to be in here for Safari polyfill so background images work as expected. */\n",
       "                background-size: auto;\n",
       "            }\n",
       "            .progress-bar-interrupted, .progress-bar-interrupted::-webkit-progress-bar {\n",
       "                background: #F44336;\n",
       "            }\n",
       "        </style>\n",
       "      <progress value='0' class='' max='50' style='width:300px; height:20px; vertical-align: middle;'></progress>\n",
       "      0.00% [0/50 00:00<00:00]\n",
       "    </div>\n",
       "    \n",
       "<table border=\"1\" class=\"dataframe\">\n",
       "  <thead>\n",
       "    <tr style=\"text-align: left;\">\n",
       "      <th>epoch</th>\n",
       "      <th>train_loss</th>\n",
       "      <th>valid_loss</th>\n",
       "      <th>accuracy</th>\n",
       "      <th>time</th>\n",
       "    </tr>\n",
       "  </thead>\n",
       "  <tbody>\n",
       "  </tbody>\n",
       "</table><p>\n",
       "\n",
       "    <div>\n",
       "        <style>\n",
       "            /* Turns off some styling */\n",
       "            progress {\n",
       "                /* gets rid of default border in Firefox and Opera. */\n",
       "                border: none;\n",
       "                /* Needs to be in here for Safari polyfill so background images work as expected. */\n",
       "                background-size: auto;\n",
       "            }\n",
       "            .progress-bar-interrupted, .progress-bar-interrupted::-webkit-progress-bar {\n",
       "                background: #F44336;\n",
       "            }\n",
       "        </style>\n",
       "      <progress value='0' class='' max='115' style='width:300px; height:20px; vertical-align: middle;'></progress>\n",
       "      0.00% [0/115 00:00<00:00]\n",
       "    </div>\n",
       "    "
      ],
      "text/plain": [
       "<IPython.core.display.HTML object>"
      ]
     },
     "metadata": {},
     "output_type": "display_data"
    },
    {
     "name": "stdout",
     "output_type": "stream",
     "text": [
      "Trying params:                                                                                                         \n",
      "{'batch_size': 512, 'epochs': 100, 'lr': 0.1, 'optimizer': <function RMSProp at 0x00000274E06BB1F8>, 'patience': 5, 'time_steps': 60}\n",
      "OmniScaleCNN                                                                                                           \n",
      "  7%|████▍                                                              | 2/30 [01:19<12:41, 27.21s/trial, best loss=?]"
     ]
    },
    {
     "data": {
      "text/html": [
       "<table border=\"1\" class=\"dataframe\">\n",
       "  <thead>\n",
       "    <tr style=\"text-align: left;\">\n",
       "      <th>epoch</th>\n",
       "      <th>train_loss</th>\n",
       "      <th>valid_loss</th>\n",
       "      <th>accuracy</th>\n",
       "      <th>time</th>\n",
       "    </tr>\n",
       "  </thead>\n",
       "  <tbody>\n",
       "    <tr>\n",
       "      <td>0</td>\n",
       "      <td>0.934686</td>\n",
       "      <td>0.924121</td>\n",
       "      <td>0.669369</td>\n",
       "      <td>00:48</td>\n",
       "    </tr>\n",
       "    <tr>\n",
       "      <td>1</td>\n",
       "      <td>0.915672</td>\n",
       "      <td>0.905370</td>\n",
       "      <td>0.682013</td>\n",
       "      <td>00:46</td>\n",
       "    </tr>\n",
       "    <tr>\n",
       "      <td>2</td>\n",
       "      <td>0.888079</td>\n",
       "      <td>0.876473</td>\n",
       "      <td>0.679359</td>\n",
       "      <td>00:47</td>\n",
       "    </tr>\n",
       "    <tr>\n",
       "      <td>3</td>\n",
       "      <td>0.863151</td>\n",
       "      <td>1.170125</td>\n",
       "      <td>0.575600</td>\n",
       "      <td>00:47</td>\n",
       "    </tr>\n",
       "    <tr>\n",
       "      <td>4</td>\n",
       "      <td>0.833288</td>\n",
       "      <td>1.056442</td>\n",
       "      <td>0.671831</td>\n",
       "      <td>00:47</td>\n",
       "    </tr>\n",
       "    <tr>\n",
       "      <td>5</td>\n",
       "      <td>0.797571</td>\n",
       "      <td>0.965879</td>\n",
       "      <td>0.665991</td>\n",
       "      <td>00:47</td>\n",
       "    </tr>\n",
       "    <tr>\n",
       "      <td>6</td>\n",
       "      <td>0.762940</td>\n",
       "      <td>1.019855</td>\n",
       "      <td>0.636359</td>\n",
       "      <td>00:47</td>\n",
       "    </tr>\n",
       "    <tr>\n",
       "      <td>7</td>\n",
       "      <td>0.729994</td>\n",
       "      <td>1.087693</td>\n",
       "      <td>0.673085</td>\n",
       "      <td>00:47</td>\n",
       "    </tr>\n",
       "  </tbody>\n",
       "</table>"
      ],
      "text/plain": [
       "<IPython.core.display.HTML object>"
      ]
     },
     "metadata": {},
     "output_type": "display_data"
    },
    {
     "name": "stdout",
     "output_type": "stream",
     "text": [
      "No improvement since epoch 2: early stopping                                                                           \n",
      "  7%|████▍                                                              | 2/30 [07:39<12:41, 27.21s/trial, best loss=?]"
     ]
    },
    {
     "data": {
      "image/png": "[encoded data removed]",
      "text/plain": [
       "<Figure size 864x288 with 2 Axes>"
      ]
     },
     "metadata": {
      "needs_background": "light"
     },
     "output_type": "display_data"
    },
    {
     "name": "stdout",
     "output_type": "stream",
     "text": [
      "Trying params:                                                                                                         \n",
      "{'batch_size': 1024, 'epochs': 100, 'lr': 0.1, 'optimizer': <function SGD at 0x00000274E06BB0D8>, 'patience': 10, 'time_steps': 60}\n",
      "OmniScaleCNN                                                                                                           \n",
      " 10%|████▌                                         | 3/30 [08:05<1:03:20, 140.74s/trial, best loss: 1.0876928567886353]"
     ]
    },
    {
     "data": {
      "text/html": [
       "\n",
       "    <div>\n",
       "        <style>\n",
       "            /* Turns off some styling */\n",
       "            progress {\n",
       "                /* gets rid of default border in Firefox and Opera. */\n",
       "                border: none;\n",
       "                /* Needs to be in here for Safari polyfill so background images work as expected. */\n",
       "                background-size: auto;\n",
       "            }\n",
       "            .progress-bar-interrupted, .progress-bar-interrupted::-webkit-progress-bar {\n",
       "                background: #F44336;\n",
       "            }\n",
       "        </style>\n",
       "      <progress value='0' class='' max='100' style='width:300px; height:20px; vertical-align: middle;'></progress>\n",
       "      0.00% [0/100 00:00<00:00]\n",
       "    </div>\n",
       "    \n",
       "<table border=\"1\" class=\"dataframe\">\n",
       "  <thead>\n",
       "    <tr style=\"text-align: left;\">\n",
       "      <th>epoch</th>\n",
       "      <th>train_loss</th>\n",
       "      <th>valid_loss</th>\n",
       "      <th>accuracy</th>\n",
       "      <th>time</th>\n",
       "    </tr>\n",
       "  </thead>\n",
       "  <tbody>\n",
       "  </tbody>\n",
       "</table><p>\n",
       "\n",
       "    <div>\n",
       "        <style>\n",
       "            /* Turns off some styling */\n",
       "            progress {\n",
       "                /* gets rid of default border in Firefox and Opera. */\n",
       "                border: none;\n",
       "                /* Needs to be in here for Safari polyfill so background images work as expected. */\n",
       "                background-size: auto;\n",
       "            }\n",
       "            .progress-bar-interrupted, .progress-bar-interrupted::-webkit-progress-bar {\n",
       "                background: #F44336;\n",
       "            }\n",
       "        </style>\n",
       "      <progress value='0' class='' max='115' style='width:300px; height:20px; vertical-align: middle;'></progress>\n",
       "      0.00% [0/115 00:00<00:00]\n",
       "    </div>\n",
       "    "
      ],
      "text/plain": [
       "<IPython.core.display.HTML object>"
      ]
     },
     "metadata": {},
     "output_type": "display_data"
    },
    {
     "name": "stdout",
     "output_type": "stream",
     "text": [
      "Trying params:                                                                                                         \n",
      "{'batch_size': 512, 'epochs': 10, 'lr': 0.01, 'optimizer': <function RMSProp at 0x00000274E06BB1F8>, 'patience': 10, 'time_steps': 30}\n",
      "OmniScaleCNN                                                                                                           \n",
      " 13%|██████▍                                         | 4/30 [08:30<45:58, 106.10s/trial, best loss: 1.0876928567886353]"
     ]
    },
    {
     "data": {
      "text/html": [
       "<table border=\"1\" class=\"dataframe\">\n",
       "  <thead>\n",
       "    <tr style=\"text-align: left;\">\n",
       "      <th>epoch</th>\n",
       "      <th>train_loss</th>\n",
       "      <th>valid_loss</th>\n",
       "      <th>accuracy</th>\n",
       "      <th>time</th>\n",
       "    </tr>\n",
       "  </thead>\n",
       "  <tbody>\n",
       "    <tr>\n",
       "      <td>0</td>\n",
       "      <td>0.980324</td>\n",
       "      <td>0.981988</td>\n",
       "      <td>0.661165</td>\n",
       "      <td>00:26</td>\n",
       "    </tr>\n",
       "    <tr>\n",
       "      <td>1</td>\n",
       "      <td>0.946012</td>\n",
       "      <td>1.098602</td>\n",
       "      <td>0.661985</td>\n",
       "      <td>00:25</td>\n",
       "    </tr>\n",
       "    <tr>\n",
       "      <td>2</td>\n",
       "      <td>0.918589</td>\n",
       "      <td>0.924082</td>\n",
       "      <td>0.676367</td>\n",
       "      <td>00:25</td>\n",
       "    </tr>\n",
       "    <tr>\n",
       "      <td>3</td>\n",
       "      <td>0.871362</td>\n",
       "      <td>0.928552</td>\n",
       "      <td>0.676801</td>\n",
       "      <td>00:25</td>\n",
       "    </tr>\n",
       "    <tr>\n",
       "      <td>4</td>\n",
       "      <td>0.808605</td>\n",
       "      <td>1.094797</td>\n",
       "      <td>0.673906</td>\n",
       "      <td>00:25</td>\n",
       "    </tr>\n",
       "    <tr>\n",
       "      <td>5</td>\n",
       "      <td>0.704934</td>\n",
       "      <td>1.222387</td>\n",
       "      <td>0.664543</td>\n",
       "      <td>00:25</td>\n",
       "    </tr>\n",
       "    <tr>\n",
       "      <td>6</td>\n",
       "      <td>0.608361</td>\n",
       "      <td>1.185224</td>\n",
       "      <td>0.660007</td>\n",
       "      <td>00:25</td>\n",
       "    </tr>\n",
       "    <tr>\n",
       "      <td>7</td>\n",
       "      <td>0.501054</td>\n",
       "      <td>1.246539</td>\n",
       "      <td>0.629217</td>\n",
       "      <td>00:25</td>\n",
       "    </tr>\n",
       "    <tr>\n",
       "      <td>8</td>\n",
       "      <td>0.421156</td>\n",
       "      <td>1.276886</td>\n",
       "      <td>0.639544</td>\n",
       "      <td>00:25</td>\n",
       "    </tr>\n",
       "    <tr>\n",
       "      <td>9</td>\n",
       "      <td>0.385177</td>\n",
       "      <td>1.300882</td>\n",
       "      <td>0.640075</td>\n",
       "      <td>00:25</td>\n",
       "    </tr>\n",
       "  </tbody>\n",
       "</table>"
      ],
      "text/plain": [
       "<IPython.core.display.HTML object>"
      ]
     },
     "metadata": {},
     "output_type": "display_data"
    },
    {
     "data": {
      "image/png": "[encoded data removed]",
      "text/plain": [
       "<Figure size 864x288 with 2 Axes>"
      ]
     },
     "metadata": {
      "needs_background": "light"
     },
     "output_type": "display_data"
    },
    {
     "name": "stdout",
     "output_type": "stream",
     "text": [
      "Trying params:                                                                                                         \n",
      "{'batch_size': 512, 'epochs': 50, 'lr': 0.1, 'optimizer': <function RMSProp at 0x00000274E06BB1F8>, 'patience': 10, 'time_steps': 60}\n",
      "OmniScaleCNN                                                                                                           \n",
      " 17%|███████▋                                      | 5/30 [13:08<1:05:38, 157.55s/trial, best loss: 1.0876928567886353]"
     ]
    },
    {
     "data": {
      "text/html": [
       "<table border=\"1\" class=\"dataframe\">\n",
       "  <thead>\n",
       "    <tr style=\"text-align: left;\">\n",
       "      <th>epoch</th>\n",
       "      <th>train_loss</th>\n",
       "      <th>valid_loss</th>\n",
       "      <th>accuracy</th>\n",
       "      <th>time</th>\n",
       "    </tr>\n",
       "  </thead>\n",
       "  <tbody>\n",
       "    <tr>\n",
       "      <td>0</td>\n",
       "      <td>0.942479</td>\n",
       "      <td>0.928172</td>\n",
       "      <td>0.665267</td>\n",
       "      <td>00:47</td>\n",
       "    </tr>\n",
       "    <tr>\n",
       "      <td>1</td>\n",
       "      <td>0.915060</td>\n",
       "      <td>0.905078</td>\n",
       "      <td>0.679118</td>\n",
       "      <td>00:47</td>\n",
       "    </tr>\n",
       "    <tr>\n",
       "      <td>2</td>\n",
       "      <td>0.904818</td>\n",
       "      <td>1.020517</td>\n",
       "      <td>0.632595</td>\n",
       "      <td>00:48</td>\n",
       "    </tr>\n",
       "    <tr>\n",
       "      <td>3</td>\n",
       "      <td>0.883275</td>\n",
       "      <td>1.088772</td>\n",
       "      <td>0.659958</td>\n",
       "      <td>00:48</td>\n",
       "    </tr>\n",
       "    <tr>\n",
       "      <td>4</td>\n",
       "      <td>0.852376</td>\n",
       "      <td>1.113777</td>\n",
       "      <td>0.678394</td>\n",
       "      <td>00:48</td>\n",
       "    </tr>\n",
       "    <tr>\n",
       "      <td>5</td>\n",
       "      <td>0.825772</td>\n",
       "      <td>1.558742</td>\n",
       "      <td>0.660538</td>\n",
       "      <td>00:47</td>\n",
       "    </tr>\n",
       "    <tr>\n",
       "      <td>6</td>\n",
       "      <td>0.802147</td>\n",
       "      <td>1.179028</td>\n",
       "      <td>0.670334</td>\n",
       "      <td>00:48</td>\n",
       "    </tr>\n",
       "    <tr>\n",
       "      <td>7</td>\n",
       "      <td>0.767849</td>\n",
       "      <td>1.128350</td>\n",
       "      <td>0.678973</td>\n",
       "      <td>00:47</td>\n",
       "    </tr>\n",
       "    <tr>\n",
       "      <td>8</td>\n",
       "      <td>0.723415</td>\n",
       "      <td>1.478383</td>\n",
       "      <td>0.441243</td>\n",
       "      <td>00:47</td>\n",
       "    </tr>\n",
       "    <tr>\n",
       "      <td>9</td>\n",
       "      <td>0.674635</td>\n",
       "      <td>1.337536</td>\n",
       "      <td>0.647604</td>\n",
       "      <td>00:48</td>\n",
       "    </tr>\n",
       "    <tr>\n",
       "      <td>10</td>\n",
       "      <td>0.707810</td>\n",
       "      <td>1.123825</td>\n",
       "      <td>0.639979</td>\n",
       "      <td>00:48</td>\n",
       "    </tr>\n",
       "    <tr>\n",
       "      <td>11</td>\n",
       "      <td>0.583155</td>\n",
       "      <td>1.418385</td>\n",
       "      <td>0.620289</td>\n",
       "      <td>00:47</td>\n",
       "    </tr>\n",
       "  </tbody>\n",
       "</table>"
      ],
      "text/plain": [
       "<IPython.core.display.HTML object>"
      ]
     },
     "metadata": {},
     "output_type": "display_data"
    },
    {
     "name": "stdout",
     "output_type": "stream",
     "text": [
      "No improvement since epoch 1: early stopping                                                                           \n",
      " 17%|███████▋                                      | 5/30 [22:43<1:05:38, 157.55s/trial, best loss: 1.0876928567886353]"
     ]
    },
    {
     "data": {
      "image/png": "[encoded data removed]",
      "text/plain": [
       "<Figure size 864x288 with 2 Axes>"
      ]
     },
     "metadata": {
      "needs_background": "light"
     },
     "output_type": "display_data"
    },
    {
     "name": "stdout",
     "output_type": "stream",
     "text": [
      "Trying params:                                                                                                         \n",
      "{'batch_size': 256, 'epochs': 50, 'lr': 0.001, 'optimizer': <function SGD at 0x00000274E06BB0D8>, 'patience': 5, 'time_steps': 90}\n",
      "Trying params:                                                                                                         \n",
      "{'batch_size': 1024, 'epochs': 50, 'lr': 0.01, 'optimizer': <function SGD at 0x00000274E06BB0D8>, 'patience': 5, 'time_steps': 60}\n",
      "OmniScaleCNN                                                                                                           \n",
      " 23%|██████████▋                                   | 7/30 [23:33<1:20:50, 210.90s/trial, best loss: 1.0876928567886353]"
     ]
    },
    {
     "data": {
      "text/html": [
       "\n",
       "    <div>\n",
       "        <style>\n",
       "            /* Turns off some styling */\n",
       "            progress {\n",
       "                /* gets rid of default border in Firefox and Opera. */\n",
       "                border: none;\n",
       "                /* Needs to be in here for Safari polyfill so background images work as expected. */\n",
       "                background-size: auto;\n",
       "            }\n",
       "            .progress-bar-interrupted, .progress-bar-interrupted::-webkit-progress-bar {\n",
       "                background: #F44336;\n",
       "            }\n",
       "        </style>\n",
       "      <progress value='0' class='' max='50' style='width:300px; height:20px; vertical-align: middle;'></progress>\n",
       "      0.00% [0/50 00:00<00:00]\n",
       "    </div>\n",
       "    \n",
       "<table border=\"1\" class=\"dataframe\">\n",
       "  <thead>\n",
       "    <tr style=\"text-align: left;\">\n",
       "      <th>epoch</th>\n",
       "      <th>train_loss</th>\n",
       "      <th>valid_loss</th>\n",
       "      <th>accuracy</th>\n",
       "      <th>time</th>\n",
       "    </tr>\n",
       "  </thead>\n",
       "  <tbody>\n",
       "  </tbody>\n",
       "</table><p>\n",
       "\n",
       "    <div>\n",
       "        <style>\n",
       "            /* Turns off some styling */\n",
       "            progress {\n",
       "                /* gets rid of default border in Firefox and Opera. */\n",
       "                border: none;\n",
       "                /* Needs to be in here for Safari polyfill so background images work as expected. */\n",
       "                background-size: auto;\n",
       "            }\n",
       "            .progress-bar-interrupted, .progress-bar-interrupted::-webkit-progress-bar {\n",
       "                background: #F44336;\n",
       "            }\n",
       "        </style>\n",
       "      <progress value='0' class='' max='115' style='width:300px; height:20px; vertical-align: middle;'></progress>\n",
       "      0.00% [0/115 00:00<00:00]\n",
       "    </div>\n",
       "    "
      ],
      "text/plain": [
       "<IPython.core.display.HTML object>"
      ]
     },
     "metadata": {},
     "output_type": "display_data"
    },
    {
     "name": "stdout",
     "output_type": "stream",
     "text": [
      "Trying params:                                                                                                         \n",
      "{'batch_size': 256, 'epochs': 100, 'lr': 0.001, 'optimizer': <function Adam at 0x00000274E06BB438>, 'patience': 5, 'time_steps': 30}\n",
      "OmniScaleCNN                                                                                                           \n",
      " 27%|████████████▊                                   | 8/30 [23:59<56:54, 155.19s/trial, best loss: 1.0876928567886353]"
     ]
    },
    {
     "data": {
      "text/html": [
       "<table border=\"1\" class=\"dataframe\">\n",
       "  <thead>\n",
       "    <tr style=\"text-align: left;\">\n",
       "      <th>epoch</th>\n",
       "      <th>train_loss</th>\n",
       "      <th>valid_loss</th>\n",
       "      <th>accuracy</th>\n",
       "      <th>time</th>\n",
       "    </tr>\n",
       "  </thead>\n",
       "  <tbody>\n",
       "    <tr>\n",
       "      <td>0</td>\n",
       "      <td>0.952410</td>\n",
       "      <td>0.967530</td>\n",
       "      <td>0.654939</td>\n",
       "      <td>00:26</td>\n",
       "    </tr>\n",
       "    <tr>\n",
       "      <td>1</td>\n",
       "      <td>0.937281</td>\n",
       "      <td>0.941427</td>\n",
       "      <td>0.662661</td>\n",
       "      <td>00:26</td>\n",
       "    </tr>\n",
       "    <tr>\n",
       "      <td>2</td>\n",
       "      <td>0.905509</td>\n",
       "      <td>0.945448</td>\n",
       "      <td>0.666039</td>\n",
       "      <td>00:26</td>\n",
       "    </tr>\n",
       "    <tr>\n",
       "      <td>3</td>\n",
       "      <td>0.902221</td>\n",
       "      <td>0.926612</td>\n",
       "      <td>0.673423</td>\n",
       "      <td>00:26</td>\n",
       "    </tr>\n",
       "    <tr>\n",
       "      <td>4</td>\n",
       "      <td>0.885854</td>\n",
       "      <td>0.909865</td>\n",
       "      <td>0.682786</td>\n",
       "      <td>00:28</td>\n",
       "    </tr>\n",
       "    <tr>\n",
       "      <td>5</td>\n",
       "      <td>0.872306</td>\n",
       "      <td>0.937136</td>\n",
       "      <td>0.671348</td>\n",
       "      <td>00:27</td>\n",
       "    </tr>\n",
       "    <tr>\n",
       "      <td>6</td>\n",
       "      <td>0.848814</td>\n",
       "      <td>1.081545</td>\n",
       "      <td>0.665846</td>\n",
       "      <td>00:26</td>\n",
       "    </tr>\n",
       "    <tr>\n",
       "      <td>7</td>\n",
       "      <td>0.841063</td>\n",
       "      <td>1.022788</td>\n",
       "      <td>0.636504</td>\n",
       "      <td>00:27</td>\n",
       "    </tr>\n",
       "    <tr>\n",
       "      <td>8</td>\n",
       "      <td>0.806399</td>\n",
       "      <td>0.944095</td>\n",
       "      <td>0.665750</td>\n",
       "      <td>00:27</td>\n",
       "    </tr>\n",
       "    <tr>\n",
       "      <td>9</td>\n",
       "      <td>0.789942</td>\n",
       "      <td>1.121473</td>\n",
       "      <td>0.669852</td>\n",
       "      <td>00:27</td>\n",
       "    </tr>\n",
       "  </tbody>\n",
       "</table>"
      ],
      "text/plain": [
       "<IPython.core.display.HTML object>"
      ]
     },
     "metadata": {},
     "output_type": "display_data"
    },
    {
     "name": "stdout",
     "output_type": "stream",
     "text": [
      "No improvement since epoch 4: early stopping                                                                           \n",
      " 27%|████████████▊                                   | 8/30 [28:29<56:54, 155.19s/trial, best loss: 1.0876928567886353]"
     ]
    },
    {
     "data": {
      "image/png": "[encoded data removed]",
      "text/plain": [
       "<Figure size 864x288 with 2 Axes>"
      ]
     },
     "metadata": {
      "needs_background": "light"
     },
     "output_type": "display_data"
    },
    {
     "name": "stdout",
     "output_type": "stream",
     "text": [
      "Trying params:                                                                                                         \n",
      "{'batch_size': 1024, 'epochs': 50, 'lr': 0.001, 'optimizer': <function RMSProp at 0x00000274E06BB1F8>, 'patience': 5, 'time_steps': 90}\n",
      "Trying params:                                                                                                         \n",
      "{'batch_size': 256, 'epochs': 50, 'lr': 0.001, 'optimizer': <function RMSProp at 0x00000274E06BB1F8>, 'patience': 5, 'time_steps': 90}\n",
      "Trying params:                                                                                                         \n",
      "{'batch_size': 512, 'epochs': 50, 'lr': 0.001, 'optimizer': <function SGD at 0x00000274E06BB0D8>, 'patience': 5, 'time_steps': 90}\n",
      "Trying params:                                                                                                         \n",
      "{'batch_size': 512, 'epochs': 100, 'lr': 0.0001, 'optimizer': <function Adam at 0x00000274E06BB438>, 'patience': 5, 'time_steps': 60}\n",
      "OmniScaleCNN                                                                                                           \n",
      " 40%|███████████████████▏                            | 12/30 [30:26<26:04, 86.92s/trial, best loss: 1.0876928567886353]"
     ]
    },
    {
     "data": {
      "text/html": [
       "<table border=\"1\" class=\"dataframe\">\n",
       "  <thead>\n",
       "    <tr style=\"text-align: left;\">\n",
       "      <th>epoch</th>\n",
       "      <th>train_loss</th>\n",
       "      <th>valid_loss</th>\n",
       "      <th>accuracy</th>\n",
       "      <th>time</th>\n",
       "    </tr>\n",
       "  </thead>\n",
       "  <tbody>\n",
       "    <tr>\n",
       "      <td>0</td>\n",
       "      <td>1.299630</td>\n",
       "      <td>1.327958</td>\n",
       "      <td>0.600550</td>\n",
       "      <td>00:49</td>\n",
       "    </tr>\n",
       "    <tr>\n",
       "      <td>1</td>\n",
       "      <td>1.170658</td>\n",
       "      <td>1.188248</td>\n",
       "      <td>0.623908</td>\n",
       "      <td>00:49</td>\n",
       "    </tr>\n",
       "    <tr>\n",
       "      <td>2</td>\n",
       "      <td>1.083647</td>\n",
       "      <td>1.060887</td>\n",
       "      <td>0.645191</td>\n",
       "      <td>00:49</td>\n",
       "    </tr>\n",
       "    <tr>\n",
       "      <td>3</td>\n",
       "      <td>1.009218</td>\n",
       "      <td>1.007173</td>\n",
       "      <td>0.653299</td>\n",
       "      <td>00:49</td>\n",
       "    </tr>\n",
       "    <tr>\n",
       "      <td>4</td>\n",
       "      <td>0.972101</td>\n",
       "      <td>0.970559</td>\n",
       "      <td>0.654746</td>\n",
       "      <td>00:50</td>\n",
       "    </tr>\n",
       "    <tr>\n",
       "      <td>5</td>\n",
       "      <td>0.944053</td>\n",
       "      <td>0.956635</td>\n",
       "      <td>0.659331</td>\n",
       "      <td>00:50</td>\n",
       "    </tr>\n",
       "    <tr>\n",
       "      <td>6</td>\n",
       "      <td>0.926605</td>\n",
       "      <td>0.931214</td>\n",
       "      <td>0.665364</td>\n",
       "      <td>00:49</td>\n",
       "    </tr>\n",
       "    <tr>\n",
       "      <td>7</td>\n",
       "      <td>0.914376</td>\n",
       "      <td>0.923374</td>\n",
       "      <td>0.667439</td>\n",
       "      <td>00:49</td>\n",
       "    </tr>\n",
       "    <tr>\n",
       "      <td>8</td>\n",
       "      <td>0.902424</td>\n",
       "      <td>0.913410</td>\n",
       "      <td>0.667728</td>\n",
       "      <td>00:51</td>\n",
       "    </tr>\n",
       "    <tr>\n",
       "      <td>9</td>\n",
       "      <td>0.891835</td>\n",
       "      <td>0.918739</td>\n",
       "      <td>0.663095</td>\n",
       "      <td>00:50</td>\n",
       "    </tr>\n",
       "    <tr>\n",
       "      <td>10</td>\n",
       "      <td>0.875046</td>\n",
       "      <td>0.899296</td>\n",
       "      <td>0.675257</td>\n",
       "      <td>00:51</td>\n",
       "    </tr>\n",
       "    <tr>\n",
       "      <td>11</td>\n",
       "      <td>0.867705</td>\n",
       "      <td>0.926863</td>\n",
       "      <td>0.659138</td>\n",
       "      <td>00:51</td>\n",
       "    </tr>\n",
       "    <tr>\n",
       "      <td>12</td>\n",
       "      <td>0.856654</td>\n",
       "      <td>0.921048</td>\n",
       "      <td>0.673085</td>\n",
       "      <td>00:51</td>\n",
       "    </tr>\n",
       "    <tr>\n",
       "      <td>13</td>\n",
       "      <td>0.848346</td>\n",
       "      <td>0.909719</td>\n",
       "      <td>0.670962</td>\n",
       "      <td>00:51</td>\n",
       "    </tr>\n",
       "    <tr>\n",
       "      <td>14</td>\n",
       "      <td>0.841910</td>\n",
       "      <td>0.916156</td>\n",
       "      <td>0.674292</td>\n",
       "      <td>00:51</td>\n",
       "    </tr>\n",
       "    <tr>\n",
       "      <td>15</td>\n",
       "      <td>0.831675</td>\n",
       "      <td>0.905062</td>\n",
       "      <td>0.671107</td>\n",
       "      <td>00:51</td>\n",
       "    </tr>\n",
       "  </tbody>\n",
       "</table>"
      ],
      "text/plain": [
       "<IPython.core.display.HTML object>"
      ]
     },
     "metadata": {},
     "output_type": "display_data"
    },
    {
     "name": "stdout",
     "output_type": "stream",
     "text": [
      "No improvement since epoch 10: early stopping                                                                          \n",
      " 40%|███████████████████▏                            | 12/30 [43:53<26:04, 86.92s/trial, best loss: 1.0876928567886353]"
     ]
    },
    {
     "data": {
      "image/png": "[encoded data removed]",
      "text/plain": [
       "<Figure size 864x288 with 2 Axes>"
      ]
     },
     "metadata": {
      "needs_background": "light"
     },
     "output_type": "display_data"
    },
    {
     "name": "stdout",
     "output_type": "stream",
     "text": [
      "Trying params:                                                                                                         \n",
      "{'batch_size': 512, 'epochs': 10, 'lr': 0.1, 'optimizer': <function RMSProp at 0x00000274E06BB1F8>, 'patience': 10, 'time_steps': 60}\n",
      "OmniScaleCNN                                                                                                           \n",
      " 43%|███████████████████▌                         | 13/30 [44:18<1:28:24, 312.04s/trial, best loss: 0.9050619602203369]"
     ]
    },
    {
     "data": {
      "text/html": [
       "<table border=\"1\" class=\"dataframe\">\n",
       "  <thead>\n",
       "    <tr style=\"text-align: left;\">\n",
       "      <th>epoch</th>\n",
       "      <th>train_loss</th>\n",
       "      <th>valid_loss</th>\n",
       "      <th>accuracy</th>\n",
       "      <th>time</th>\n",
       "    </tr>\n",
       "  </thead>\n",
       "  <tbody>\n",
       "    <tr>\n",
       "      <td>0</td>\n",
       "      <td>0.972360</td>\n",
       "      <td>0.914121</td>\n",
       "      <td>0.666811</td>\n",
       "      <td>00:48</td>\n",
       "    </tr>\n",
       "    <tr>\n",
       "      <td>1</td>\n",
       "      <td>0.957112</td>\n",
       "      <td>0.909279</td>\n",
       "      <td>0.670914</td>\n",
       "      <td>00:49</td>\n",
       "    </tr>\n",
       "    <tr>\n",
       "      <td>2</td>\n",
       "      <td>0.949583</td>\n",
       "      <td>0.926581</td>\n",
       "      <td>0.665122</td>\n",
       "      <td>00:49</td>\n",
       "    </tr>\n",
       "    <tr>\n",
       "      <td>3</td>\n",
       "      <td>0.904730</td>\n",
       "      <td>0.848792</td>\n",
       "      <td>0.686260</td>\n",
       "      <td>00:49</td>\n",
       "    </tr>\n",
       "    <tr>\n",
       "      <td>4</td>\n",
       "      <td>0.868383</td>\n",
       "      <td>0.983776</td>\n",
       "      <td>0.663288</td>\n",
       "      <td>00:49</td>\n",
       "    </tr>\n",
       "    <tr>\n",
       "      <td>5</td>\n",
       "      <td>0.803062</td>\n",
       "      <td>0.933093</td>\n",
       "      <td>0.660152</td>\n",
       "      <td>00:49</td>\n",
       "    </tr>\n",
       "    <tr>\n",
       "      <td>6</td>\n",
       "      <td>0.736242</td>\n",
       "      <td>0.953229</td>\n",
       "      <td>0.662178</td>\n",
       "      <td>00:49</td>\n",
       "    </tr>\n",
       "    <tr>\n",
       "      <td>7</td>\n",
       "      <td>0.660939</td>\n",
       "      <td>1.081104</td>\n",
       "      <td>0.613870</td>\n",
       "      <td>00:49</td>\n",
       "    </tr>\n",
       "    <tr>\n",
       "      <td>8</td>\n",
       "      <td>0.612211</td>\n",
       "      <td>1.090184</td>\n",
       "      <td>0.651272</td>\n",
       "      <td>00:49</td>\n",
       "    </tr>\n",
       "    <tr>\n",
       "      <td>9</td>\n",
       "      <td>0.591812</td>\n",
       "      <td>1.118028</td>\n",
       "      <td>0.654795</td>\n",
       "      <td>00:49</td>\n",
       "    </tr>\n",
       "  </tbody>\n",
       "</table>"
      ],
      "text/plain": [
       "<IPython.core.display.HTML object>"
      ]
     },
     "metadata": {},
     "output_type": "display_data"
    },
    {
     "data": {
      "image/png": "[encoded data removed]",
      "text/plain": [
       "<Figure size 864x288 with 2 Axes>"
      ]
     },
     "metadata": {
      "needs_background": "light"
     },
     "output_type": "display_data"
    },
    {
     "name": "stdout",
     "output_type": "stream",
     "text": [
      "Trying params:                                                                                                         \n",
      "{'batch_size': 256, 'epochs': 50, 'lr': 0.001, 'optimizer': <function SGD at 0x00000274E06BB0D8>, 'patience': 10, 'time_steps': 90}\n",
      "Trying params:                                                                                                         \n",
      "{'batch_size': 512, 'epochs': 10, 'lr': 0.01, 'optimizer': <function Adam at 0x00000274E06BB438>, 'patience': 10, 'time_steps': 60}\n",
      "OmniScaleCNN                                                                                                           \n",
      " 50%|██████████████████████▌                      | 15/30 [53:20<1:07:14, 268.98s/trial, best loss: 0.9050619602203369]"
     ]
    },
    {
     "data": {
      "text/html": [
       "<table border=\"1\" class=\"dataframe\">\n",
       "  <thead>\n",
       "    <tr style=\"text-align: left;\">\n",
       "      <th>epoch</th>\n",
       "      <th>train_loss</th>\n",
       "      <th>valid_loss</th>\n",
       "      <th>accuracy</th>\n",
       "      <th>time</th>\n",
       "    </tr>\n",
       "  </thead>\n",
       "  <tbody>\n",
       "    <tr>\n",
       "      <td>0</td>\n",
       "      <td>0.924959</td>\n",
       "      <td>0.923228</td>\n",
       "      <td>0.668694</td>\n",
       "      <td>00:48</td>\n",
       "    </tr>\n",
       "    <tr>\n",
       "      <td>1</td>\n",
       "      <td>0.892610</td>\n",
       "      <td>0.888680</td>\n",
       "      <td>0.676946</td>\n",
       "      <td>00:50</td>\n",
       "    </tr>\n",
       "    <tr>\n",
       "      <td>2</td>\n",
       "      <td>0.844323</td>\n",
       "      <td>0.856892</td>\n",
       "      <td>0.683509</td>\n",
       "      <td>00:51</td>\n",
       "    </tr>\n",
       "    <tr>\n",
       "      <td>3</td>\n",
       "      <td>0.763000</td>\n",
       "      <td>1.005829</td>\n",
       "      <td>0.659524</td>\n",
       "      <td>00:51</td>\n",
       "    </tr>\n",
       "    <tr>\n",
       "      <td>4</td>\n",
       "      <td>0.683683</td>\n",
       "      <td>1.117177</td>\n",
       "      <td>0.663916</td>\n",
       "      <td>00:51</td>\n",
       "    </tr>\n",
       "    <tr>\n",
       "      <td>5</td>\n",
       "      <td>0.597239</td>\n",
       "      <td>1.179039</td>\n",
       "      <td>0.658897</td>\n",
       "      <td>00:51</td>\n",
       "    </tr>\n",
       "    <tr>\n",
       "      <td>6</td>\n",
       "      <td>0.509376</td>\n",
       "      <td>1.345304</td>\n",
       "      <td>0.673085</td>\n",
       "      <td>00:51</td>\n",
       "    </tr>\n",
       "    <tr>\n",
       "      <td>7</td>\n",
       "      <td>0.433202</td>\n",
       "      <td>1.176537</td>\n",
       "      <td>0.650934</td>\n",
       "      <td>00:51</td>\n",
       "    </tr>\n",
       "    <tr>\n",
       "      <td>8</td>\n",
       "      <td>0.371997</td>\n",
       "      <td>1.248015</td>\n",
       "      <td>0.657304</td>\n",
       "      <td>00:51</td>\n",
       "    </tr>\n",
       "    <tr>\n",
       "      <td>9</td>\n",
       "      <td>0.339768</td>\n",
       "      <td>1.243231</td>\n",
       "      <td>0.660200</td>\n",
       "      <td>00:51</td>\n",
       "    </tr>\n",
       "  </tbody>\n",
       "</table>"
      ],
      "text/plain": [
       "<IPython.core.display.HTML object>"
      ]
     },
     "metadata": {},
     "output_type": "display_data"
    },
    {
     "data": {
      "image/png": "[encoded data removed]",
      "text/plain": [
       "<Figure size 864x288 with 2 Axes>"
      ]
     },
     "metadata": {
      "needs_background": "light"
     },
     "output_type": "display_data"
    },
    {
     "name": "stdout",
     "output_type": "stream",
     "text": [
      "Trying params:                                                                                                         \n",
      "{'batch_size': 256, 'epochs': 10, 'lr': 0.0001, 'optimizer': <function RMSProp at 0x00000274E06BB1F8>, 'patience': 10, 'time_steps': 30}\n",
      "OmniScaleCNN                                                                                                           \n",
      " 53%|██████████████████████▉                    | 16/30 [1:02:20<1:21:23, 348.85s/trial, best loss: 0.9050619602203369]"
     ]
    },
    {
     "data": {
      "text/html": [
       "<table border=\"1\" class=\"dataframe\">\n",
       "  <thead>\n",
       "    <tr style=\"text-align: left;\">\n",
       "      <th>epoch</th>\n",
       "      <th>train_loss</th>\n",
       "      <th>valid_loss</th>\n",
       "      <th>accuracy</th>\n",
       "      <th>time</th>\n",
       "    </tr>\n",
       "  </thead>\n",
       "  <tbody>\n",
       "    <tr>\n",
       "      <td>0</td>\n",
       "      <td>1.016439</td>\n",
       "      <td>0.980729</td>\n",
       "      <td>0.663385</td>\n",
       "      <td>00:27</td>\n",
       "    </tr>\n",
       "    <tr>\n",
       "      <td>1</td>\n",
       "      <td>0.939381</td>\n",
       "      <td>0.953976</td>\n",
       "      <td>0.659814</td>\n",
       "      <td>00:28</td>\n",
       "    </tr>\n",
       "    <tr>\n",
       "      <td>2</td>\n",
       "      <td>0.920735</td>\n",
       "      <td>1.005048</td>\n",
       "      <td>0.663771</td>\n",
       "      <td>00:28</td>\n",
       "    </tr>\n",
       "    <tr>\n",
       "      <td>3</td>\n",
       "      <td>0.908669</td>\n",
       "      <td>0.946377</td>\n",
       "      <td>0.661744</td>\n",
       "      <td>00:29</td>\n",
       "    </tr>\n",
       "    <tr>\n",
       "      <td>4</td>\n",
       "      <td>0.880079</td>\n",
       "      <td>0.939789</td>\n",
       "      <td>0.669418</td>\n",
       "      <td>00:28</td>\n",
       "    </tr>\n",
       "    <tr>\n",
       "      <td>5</td>\n",
       "      <td>0.864006</td>\n",
       "      <td>0.930797</td>\n",
       "      <td>0.669611</td>\n",
       "      <td>00:29</td>\n",
       "    </tr>\n",
       "    <tr>\n",
       "      <td>6</td>\n",
       "      <td>0.846618</td>\n",
       "      <td>0.936814</td>\n",
       "      <td>0.673954</td>\n",
       "      <td>00:28</td>\n",
       "    </tr>\n",
       "    <tr>\n",
       "      <td>7</td>\n",
       "      <td>0.838652</td>\n",
       "      <td>0.945533</td>\n",
       "      <td>0.675402</td>\n",
       "      <td>00:29</td>\n",
       "    </tr>\n",
       "    <tr>\n",
       "      <td>8</td>\n",
       "      <td>0.820193</td>\n",
       "      <td>0.944449</td>\n",
       "      <td>0.673761</td>\n",
       "      <td>00:29</td>\n",
       "    </tr>\n",
       "    <tr>\n",
       "      <td>9</td>\n",
       "      <td>0.826177</td>\n",
       "      <td>0.942152</td>\n",
       "      <td>0.675450</td>\n",
       "      <td>00:29</td>\n",
       "    </tr>\n",
       "  </tbody>\n",
       "</table>"
      ],
      "text/plain": [
       "<IPython.core.display.HTML object>"
      ]
     },
     "metadata": {},
     "output_type": "display_data"
    },
    {
     "data": {
      "image/png": "[encoded data removed]",
      "text/plain": [
       "<Figure size 864x288 with 2 Axes>"
      ]
     },
     "metadata": {
      "needs_background": "light"
     },
     "output_type": "display_data"
    },
    {
     "name": "stdout",
     "output_type": "stream",
     "text": [
      "Trying params:                                                                                                         \n",
      "{'batch_size': 256, 'epochs': 10, 'lr': 0.001, 'optimizer': <function SGD at 0x00000274E06BB0D8>, 'patience': 10, 'time_steps': 90}\n",
      "Trying params:                                                                                                         \n",
      "{'batch_size': 1024, 'epochs': 50, 'lr': 0.0001, 'optimizer': <function SGD at 0x00000274E06BB0D8>, 'patience': 10, 'time_steps': 90}\n",
      "Trying params:                                                                                                         \n",
      "{'batch_size': 512, 'epochs': 10, 'lr': 0.01, 'optimizer': <function Adam at 0x00000274E06BB438>, 'patience': 5, 'time_steps': 30}\n",
      "OmniScaleCNN                                                                                                           \n",
      " 63%|████████████████████████████▌                | 19/30 [1:08:34<33:05, 180.50s/trial, best loss: 0.9050619602203369]"
     ]
    },
    {
     "data": {
      "text/html": [
       "<table border=\"1\" class=\"dataframe\">\n",
       "  <thead>\n",
       "    <tr style=\"text-align: left;\">\n",
       "      <th>epoch</th>\n",
       "      <th>train_loss</th>\n",
       "      <th>valid_loss</th>\n",
       "      <th>accuracy</th>\n",
       "      <th>time</th>\n",
       "    </tr>\n",
       "  </thead>\n",
       "  <tbody>\n",
       "    <tr>\n",
       "      <td>0</td>\n",
       "      <td>0.940121</td>\n",
       "      <td>0.961874</td>\n",
       "      <td>0.675016</td>\n",
       "      <td>00:25</td>\n",
       "    </tr>\n",
       "    <tr>\n",
       "      <td>1</td>\n",
       "      <td>0.926747</td>\n",
       "      <td>0.971601</td>\n",
       "      <td>0.654264</td>\n",
       "      <td>00:26</td>\n",
       "    </tr>\n",
       "    <tr>\n",
       "      <td>2</td>\n",
       "      <td>0.875210</td>\n",
       "      <td>1.012838</td>\n",
       "      <td>0.680566</td>\n",
       "      <td>00:26</td>\n",
       "    </tr>\n",
       "    <tr>\n",
       "      <td>3</td>\n",
       "      <td>0.819341</td>\n",
       "      <td>0.997160</td>\n",
       "      <td>0.658366</td>\n",
       "      <td>00:26</td>\n",
       "    </tr>\n",
       "    <tr>\n",
       "      <td>4</td>\n",
       "      <td>0.729603</td>\n",
       "      <td>1.236746</td>\n",
       "      <td>0.670527</td>\n",
       "      <td>00:26</td>\n",
       "    </tr>\n",
       "    <tr>\n",
       "      <td>5</td>\n",
       "      <td>0.639396</td>\n",
       "      <td>1.146711</td>\n",
       "      <td>0.666570</td>\n",
       "      <td>00:27</td>\n",
       "    </tr>\n",
       "  </tbody>\n",
       "</table>"
      ],
      "text/plain": [
       "<IPython.core.display.HTML object>"
      ]
     },
     "metadata": {},
     "output_type": "display_data"
    },
    {
     "name": "stdout",
     "output_type": "stream",
     "text": [
      "No improvement since epoch 0: early stopping                                                                           \n",
      " 63%|████████████████████████████▌                | 19/30 [1:11:13<33:05, 180.50s/trial, best loss: 0.9050619602203369]"
     ]
    },
    {
     "data": {
      "image/png": "[encoded data removed]",
      "text/plain": [
       "<Figure size 864x288 with 2 Axes>"
      ]
     },
     "metadata": {
      "needs_background": "light"
     },
     "output_type": "display_data"
    },
    {
     "name": "stdout",
     "output_type": "stream",
     "text": [
      "Trying params:                                                                                                         \n",
      "{'batch_size': 256, 'epochs': 100, 'lr': 0.0001, 'optimizer': <function Adam at 0x00000274E06BB438>, 'patience': 10, 'time_steps': 30}\n",
      "OmniScaleCNN                                                                                                           \n",
      " 67%|██████████████████████████████               | 20/30 [1:11:39<30:31, 183.10s/trial, best loss: 0.9050619602203369]"
     ]
    },
    {
     "data": {
      "text/html": [
       "<table border=\"1\" class=\"dataframe\">\n",
       "  <thead>\n",
       "    <tr style=\"text-align: left;\">\n",
       "      <th>epoch</th>\n",
       "      <th>train_loss</th>\n",
       "      <th>valid_loss</th>\n",
       "      <th>accuracy</th>\n",
       "      <th>time</th>\n",
       "    </tr>\n",
       "  </thead>\n",
       "  <tbody>\n",
       "    <tr>\n",
       "      <td>0</td>\n",
       "      <td>1.289459</td>\n",
       "      <td>1.302478</td>\n",
       "      <td>0.600743</td>\n",
       "      <td>00:26</td>\n",
       "    </tr>\n",
       "    <tr>\n",
       "      <td>1</td>\n",
       "      <td>1.070286</td>\n",
       "      <td>1.082050</td>\n",
       "      <td>0.637904</td>\n",
       "      <td>00:27</td>\n",
       "    </tr>\n",
       "    <tr>\n",
       "      <td>2</td>\n",
       "      <td>0.991645</td>\n",
       "      <td>0.995399</td>\n",
       "      <td>0.658655</td>\n",
       "      <td>00:28</td>\n",
       "    </tr>\n",
       "    <tr>\n",
       "      <td>3</td>\n",
       "      <td>0.960293</td>\n",
       "      <td>0.958616</td>\n",
       "      <td>0.668790</td>\n",
       "      <td>00:28</td>\n",
       "    </tr>\n",
       "    <tr>\n",
       "      <td>4</td>\n",
       "      <td>0.937266</td>\n",
       "      <td>0.961137</td>\n",
       "      <td>0.666184</td>\n",
       "      <td>00:28</td>\n",
       "    </tr>\n",
       "    <tr>\n",
       "      <td>5</td>\n",
       "      <td>0.936199</td>\n",
       "      <td>0.930948</td>\n",
       "      <td>0.669466</td>\n",
       "      <td>00:28</td>\n",
       "    </tr>\n",
       "    <tr>\n",
       "      <td>6</td>\n",
       "      <td>0.922355</td>\n",
       "      <td>0.950177</td>\n",
       "      <td>0.661261</td>\n",
       "      <td>00:28</td>\n",
       "    </tr>\n",
       "    <tr>\n",
       "      <td>7</td>\n",
       "      <td>0.909001</td>\n",
       "      <td>0.944722</td>\n",
       "      <td>0.664543</td>\n",
       "      <td>00:28</td>\n",
       "    </tr>\n",
       "    <tr>\n",
       "      <td>8</td>\n",
       "      <td>0.900275</td>\n",
       "      <td>0.942950</td>\n",
       "      <td>0.665653</td>\n",
       "      <td>00:29</td>\n",
       "    </tr>\n",
       "    <tr>\n",
       "      <td>9</td>\n",
       "      <td>0.898194</td>\n",
       "      <td>0.999325</td>\n",
       "      <td>0.623039</td>\n",
       "      <td>00:28</td>\n",
       "    </tr>\n",
       "    <tr>\n",
       "      <td>10</td>\n",
       "      <td>0.883881</td>\n",
       "      <td>0.940612</td>\n",
       "      <td>0.665846</td>\n",
       "      <td>00:28</td>\n",
       "    </tr>\n",
       "    <tr>\n",
       "      <td>11</td>\n",
       "      <td>0.863948</td>\n",
       "      <td>0.931833</td>\n",
       "      <td>0.673375</td>\n",
       "      <td>00:29</td>\n",
       "    </tr>\n",
       "    <tr>\n",
       "      <td>12</td>\n",
       "      <td>0.859199</td>\n",
       "      <td>0.920431</td>\n",
       "      <td>0.672747</td>\n",
       "      <td>00:29</td>\n",
       "    </tr>\n",
       "    <tr>\n",
       "      <td>13</td>\n",
       "      <td>0.833039</td>\n",
       "      <td>0.990609</td>\n",
       "      <td>0.660634</td>\n",
       "      <td>00:29</td>\n",
       "    </tr>\n",
       "    <tr>\n",
       "      <td>14</td>\n",
       "      <td>0.835063</td>\n",
       "      <td>1.004034</td>\n",
       "      <td>0.651947</td>\n",
       "      <td>00:29</td>\n",
       "    </tr>\n",
       "    <tr>\n",
       "      <td>15</td>\n",
       "      <td>0.810292</td>\n",
       "      <td>0.980446</td>\n",
       "      <td>0.663192</td>\n",
       "      <td>00:30</td>\n",
       "    </tr>\n",
       "    <tr>\n",
       "      <td>16</td>\n",
       "      <td>0.814671</td>\n",
       "      <td>1.010352</td>\n",
       "      <td>0.664109</td>\n",
       "      <td>00:29</td>\n",
       "    </tr>\n",
       "    <tr>\n",
       "      <td>17</td>\n",
       "      <td>0.800247</td>\n",
       "      <td>1.089933</td>\n",
       "      <td>0.576468</td>\n",
       "      <td>00:29</td>\n",
       "    </tr>\n",
       "    <tr>\n",
       "      <td>18</td>\n",
       "      <td>0.782339</td>\n",
       "      <td>0.962965</td>\n",
       "      <td>0.647604</td>\n",
       "      <td>00:29</td>\n",
       "    </tr>\n",
       "    <tr>\n",
       "      <td>19</td>\n",
       "      <td>0.762937</td>\n",
       "      <td>0.977399</td>\n",
       "      <td>0.665653</td>\n",
       "      <td>00:29</td>\n",
       "    </tr>\n",
       "    <tr>\n",
       "      <td>20</td>\n",
       "      <td>0.754760</td>\n",
       "      <td>1.012417</td>\n",
       "      <td>0.646253</td>\n",
       "      <td>00:29</td>\n",
       "    </tr>\n",
       "    <tr>\n",
       "      <td>21</td>\n",
       "      <td>0.731526</td>\n",
       "      <td>1.065509</td>\n",
       "      <td>0.654360</td>\n",
       "      <td>00:29</td>\n",
       "    </tr>\n",
       "    <tr>\n",
       "      <td>22</td>\n",
       "      <td>0.735374</td>\n",
       "      <td>1.195469</td>\n",
       "      <td>0.671637</td>\n",
       "      <td>00:29</td>\n",
       "    </tr>\n",
       "  </tbody>\n",
       "</table>"
      ],
      "text/plain": [
       "<IPython.core.display.HTML object>"
      ]
     },
     "metadata": {},
     "output_type": "display_data"
    },
    {
     "name": "stdout",
     "output_type": "stream",
     "text": [
      "No improvement since epoch 12: early stopping                                                                          \n",
      " 67%|██████████████████████████████               | 20/30 [1:22:46<30:31, 183.10s/trial, best loss: 0.9050619602203369]"
     ]
    },
    {
     "data": {
      "image/png": "[encoded data removed]",
      "text/plain": [
       "<Figure size 864x288 with 2 Axes>"
      ]
     },
     "metadata": {
      "needs_background": "light"
     },
     "output_type": "display_data"
    },
    {
     "name": "stdout",
     "output_type": "stream",
     "text": [
      "Trying params:                                                                                                         \n",
      "{'batch_size': 256, 'epochs': 100, 'lr': 0.0001, 'optimizer': <function Adam at 0x00000274E06BB438>, 'patience': 10, 'time_steps': 30}\n",
      "OmniScaleCNN                                                                                                           \n",
      " 70%|███████████████████████████████▍             | 21/30 [1:23:15<50:26, 336.25s/trial, best loss: 0.9050619602203369]"
     ]
    },
    {
     "data": {
      "text/html": [
       "<table border=\"1\" class=\"dataframe\">\n",
       "  <thead>\n",
       "    <tr style=\"text-align: left;\">\n",
       "      <th>epoch</th>\n",
       "      <th>train_loss</th>\n",
       "      <th>valid_loss</th>\n",
       "      <th>accuracy</th>\n",
       "      <th>time</th>\n",
       "    </tr>\n",
       "  </thead>\n",
       "  <tbody>\n",
       "    <tr>\n",
       "      <td>0</td>\n",
       "      <td>1.160993</td>\n",
       "      <td>1.181222</td>\n",
       "      <td>0.623329</td>\n",
       "      <td>00:27</td>\n",
       "    </tr>\n",
       "    <tr>\n",
       "      <td>1</td>\n",
       "      <td>1.022800</td>\n",
       "      <td>1.020284</td>\n",
       "      <td>0.657739</td>\n",
       "      <td>00:28</td>\n",
       "    </tr>\n",
       "    <tr>\n",
       "      <td>2</td>\n",
       "      <td>0.973670</td>\n",
       "      <td>0.984800</td>\n",
       "      <td>0.663675</td>\n",
       "      <td>00:29</td>\n",
       "    </tr>\n",
       "    <tr>\n",
       "      <td>3</td>\n",
       "      <td>0.952041</td>\n",
       "      <td>0.978915</td>\n",
       "      <td>0.658607</td>\n",
       "      <td>00:29</td>\n",
       "    </tr>\n",
       "    <tr>\n",
       "      <td>4</td>\n",
       "      <td>0.933793</td>\n",
       "      <td>0.973853</td>\n",
       "      <td>0.659669</td>\n",
       "      <td>00:28</td>\n",
       "    </tr>\n",
       "    <tr>\n",
       "      <td>5</td>\n",
       "      <td>0.930194</td>\n",
       "      <td>0.964304</td>\n",
       "      <td>0.655808</td>\n",
       "      <td>00:29</td>\n",
       "    </tr>\n",
       "    <tr>\n",
       "      <td>6</td>\n",
       "      <td>0.913595</td>\n",
       "      <td>0.957723</td>\n",
       "      <td>0.663530</td>\n",
       "      <td>00:29</td>\n",
       "    </tr>\n",
       "    <tr>\n",
       "      <td>7</td>\n",
       "      <td>0.916225</td>\n",
       "      <td>0.965347</td>\n",
       "      <td>0.657932</td>\n",
       "      <td>00:29</td>\n",
       "    </tr>\n",
       "    <tr>\n",
       "      <td>8</td>\n",
       "      <td>0.909035</td>\n",
       "      <td>0.960421</td>\n",
       "      <td>0.669080</td>\n",
       "      <td>00:29</td>\n",
       "    </tr>\n",
       "    <tr>\n",
       "      <td>9</td>\n",
       "      <td>0.882987</td>\n",
       "      <td>0.950862</td>\n",
       "      <td>0.661310</td>\n",
       "      <td>00:29</td>\n",
       "    </tr>\n",
       "    <tr>\n",
       "      <td>10</td>\n",
       "      <td>0.879778</td>\n",
       "      <td>0.947514</td>\n",
       "      <td>0.664929</td>\n",
       "      <td>00:29</td>\n",
       "    </tr>\n",
       "    <tr>\n",
       "      <td>11</td>\n",
       "      <td>0.871884</td>\n",
       "      <td>0.974607</td>\n",
       "      <td>0.658318</td>\n",
       "      <td>00:30</td>\n",
       "    </tr>\n",
       "    <tr>\n",
       "      <td>12</td>\n",
       "      <td>0.859491</td>\n",
       "      <td>0.996995</td>\n",
       "      <td>0.648666</td>\n",
       "      <td>00:29</td>\n",
       "    </tr>\n",
       "    <tr>\n",
       "      <td>13</td>\n",
       "      <td>0.847240</td>\n",
       "      <td>0.968817</td>\n",
       "      <td>0.658366</td>\n",
       "      <td>00:29</td>\n",
       "    </tr>\n",
       "    <tr>\n",
       "      <td>14</td>\n",
       "      <td>0.826502</td>\n",
       "      <td>0.964444</td>\n",
       "      <td>0.664109</td>\n",
       "      <td>00:30</td>\n",
       "    </tr>\n",
       "    <tr>\n",
       "      <td>15</td>\n",
       "      <td>0.812376</td>\n",
       "      <td>1.014327</td>\n",
       "      <td>0.632981</td>\n",
       "      <td>00:30</td>\n",
       "    </tr>\n",
       "    <tr>\n",
       "      <td>16</td>\n",
       "      <td>0.809339</td>\n",
       "      <td>0.980043</td>\n",
       "      <td>0.667246</td>\n",
       "      <td>00:30</td>\n",
       "    </tr>\n",
       "    <tr>\n",
       "      <td>17</td>\n",
       "      <td>0.798090</td>\n",
       "      <td>1.032401</td>\n",
       "      <td>0.671203</td>\n",
       "      <td>00:30</td>\n",
       "    </tr>\n",
       "    <tr>\n",
       "      <td>18</td>\n",
       "      <td>0.766576</td>\n",
       "      <td>1.017348</td>\n",
       "      <td>0.622509</td>\n",
       "      <td>00:30</td>\n",
       "    </tr>\n",
       "    <tr>\n",
       "      <td>19</td>\n",
       "      <td>0.759640</td>\n",
       "      <td>1.004142</td>\n",
       "      <td>0.658511</td>\n",
       "      <td>00:29</td>\n",
       "    </tr>\n",
       "    <tr>\n",
       "      <td>20</td>\n",
       "      <td>0.742676</td>\n",
       "      <td>1.009173</td>\n",
       "      <td>0.672747</td>\n",
       "      <td>00:30</td>\n",
       "    </tr>\n",
       "  </tbody>\n",
       "</table>"
      ],
      "text/plain": [
       "<IPython.core.display.HTML object>"
      ]
     },
     "metadata": {},
     "output_type": "display_data"
    },
    {
     "name": "stdout",
     "output_type": "stream",
     "text": [
      "No improvement since epoch 10: early stopping                                                                          \n",
      " 70%|███████████████████████████████▍             | 21/30 [1:33:38<50:26, 336.25s/trial, best loss: 0.9050619602203369]"
     ]
    },
    {
     "data": {
      "image/png": "[encoded data removed]",
      "text/plain": [
       "<Figure size 864x288 with 2 Axes>"
      ]
     },
     "metadata": {
      "needs_background": "light"
     },
     "output_type": "display_data"
    },
    {
     "name": "stdout",
     "output_type": "stream",
     "text": [
      "Trying params:                                                                                                         \n",
      "{'batch_size': 256, 'epochs': 100, 'lr': 0.0001, 'optimizer': <function Adam at 0x00000274E06BB438>, 'patience': 10, 'time_steps': 30}\n",
      "OmniScaleCNN                                                                                                           \n",
      " 73%|█████████████████████████████████            | 22/30 [1:34:08<57:26, 430.82s/trial, best loss: 0.9050619602203369]"
     ]
    },
    {
     "data": {
      "text/html": [
       "<table border=\"1\" class=\"dataframe\">\n",
       "  <thead>\n",
       "    <tr style=\"text-align: left;\">\n",
       "      <th>epoch</th>\n",
       "      <th>train_loss</th>\n",
       "      <th>valid_loss</th>\n",
       "      <th>accuracy</th>\n",
       "      <th>time</th>\n",
       "    </tr>\n",
       "  </thead>\n",
       "  <tbody>\n",
       "    <tr>\n",
       "      <td>0</td>\n",
       "      <td>1.292329</td>\n",
       "      <td>1.327197</td>\n",
       "      <td>0.584721</td>\n",
       "      <td>00:27</td>\n",
       "    </tr>\n",
       "    <tr>\n",
       "      <td>1</td>\n",
       "      <td>1.070834</td>\n",
       "      <td>1.081100</td>\n",
       "      <td>0.644515</td>\n",
       "      <td>00:28</td>\n",
       "    </tr>\n",
       "    <tr>\n",
       "      <td>2</td>\n",
       "      <td>0.993230</td>\n",
       "      <td>0.999258</td>\n",
       "      <td>0.659283</td>\n",
       "      <td>00:29</td>\n",
       "    </tr>\n",
       "    <tr>\n",
       "      <td>3</td>\n",
       "      <td>0.966661</td>\n",
       "      <td>0.979134</td>\n",
       "      <td>0.660827</td>\n",
       "      <td>00:29</td>\n",
       "    </tr>\n",
       "    <tr>\n",
       "      <td>4</td>\n",
       "      <td>0.943756</td>\n",
       "      <td>0.979634</td>\n",
       "      <td>0.656629</td>\n",
       "      <td>00:29</td>\n",
       "    </tr>\n",
       "    <tr>\n",
       "      <td>5</td>\n",
       "      <td>0.931933</td>\n",
       "      <td>0.990893</td>\n",
       "      <td>0.659910</td>\n",
       "      <td>00:30</td>\n",
       "    </tr>\n",
       "    <tr>\n",
       "      <td>6</td>\n",
       "      <td>0.919257</td>\n",
       "      <td>0.944679</td>\n",
       "      <td>0.665315</td>\n",
       "      <td>00:30</td>\n",
       "    </tr>\n",
       "    <tr>\n",
       "      <td>7</td>\n",
       "      <td>0.921742</td>\n",
       "      <td>0.976329</td>\n",
       "      <td>0.660875</td>\n",
       "      <td>00:30</td>\n",
       "    </tr>\n",
       "    <tr>\n",
       "      <td>8</td>\n",
       "      <td>0.908840</td>\n",
       "      <td>0.952386</td>\n",
       "      <td>0.661117</td>\n",
       "      <td>00:29</td>\n",
       "    </tr>\n",
       "    <tr>\n",
       "      <td>9</td>\n",
       "      <td>0.903897</td>\n",
       "      <td>0.995435</td>\n",
       "      <td>0.640075</td>\n",
       "      <td>00:29</td>\n",
       "    </tr>\n",
       "    <tr>\n",
       "      <td>10</td>\n",
       "      <td>0.888384</td>\n",
       "      <td>0.944693</td>\n",
       "      <td>0.671637</td>\n",
       "      <td>00:29</td>\n",
       "    </tr>\n",
       "    <tr>\n",
       "      <td>11</td>\n",
       "      <td>0.881547</td>\n",
       "      <td>0.947893</td>\n",
       "      <td>0.669176</td>\n",
       "      <td>00:30</td>\n",
       "    </tr>\n",
       "    <tr>\n",
       "      <td>12</td>\n",
       "      <td>0.878779</td>\n",
       "      <td>0.967668</td>\n",
       "      <td>0.663578</td>\n",
       "      <td>00:30</td>\n",
       "    </tr>\n",
       "    <tr>\n",
       "      <td>13</td>\n",
       "      <td>0.864843</td>\n",
       "      <td>0.959266</td>\n",
       "      <td>0.651658</td>\n",
       "      <td>00:29</td>\n",
       "    </tr>\n",
       "    <tr>\n",
       "      <td>14</td>\n",
       "      <td>0.857285</td>\n",
       "      <td>0.933346</td>\n",
       "      <td>0.669176</td>\n",
       "      <td>00:29</td>\n",
       "    </tr>\n",
       "    <tr>\n",
       "      <td>15</td>\n",
       "      <td>0.852666</td>\n",
       "      <td>0.979901</td>\n",
       "      <td>0.661551</td>\n",
       "      <td>00:29</td>\n",
       "    </tr>\n",
       "    <tr>\n",
       "      <td>16</td>\n",
       "      <td>0.827838</td>\n",
       "      <td>0.958562</td>\n",
       "      <td>0.655519</td>\n",
       "      <td>00:29</td>\n",
       "    </tr>\n",
       "    <tr>\n",
       "      <td>17</td>\n",
       "      <td>0.826599</td>\n",
       "      <td>0.943953</td>\n",
       "      <td>0.668935</td>\n",
       "      <td>00:29</td>\n",
       "    </tr>\n",
       "    <tr>\n",
       "      <td>18</td>\n",
       "      <td>0.804058</td>\n",
       "      <td>1.000645</td>\n",
       "      <td>0.673664</td>\n",
       "      <td>00:30</td>\n",
       "    </tr>\n",
       "    <tr>\n",
       "      <td>19</td>\n",
       "      <td>0.795300</td>\n",
       "      <td>1.029432</td>\n",
       "      <td>0.668404</td>\n",
       "      <td>00:30</td>\n",
       "    </tr>\n",
       "    <tr>\n",
       "      <td>20</td>\n",
       "      <td>0.785983</td>\n",
       "      <td>1.001479</td>\n",
       "      <td>0.665315</td>\n",
       "      <td>00:30</td>\n",
       "    </tr>\n",
       "    <tr>\n",
       "      <td>21</td>\n",
       "      <td>0.762460</td>\n",
       "      <td>1.064283</td>\n",
       "      <td>0.630230</td>\n",
       "      <td>00:29</td>\n",
       "    </tr>\n",
       "    <tr>\n",
       "      <td>22</td>\n",
       "      <td>0.745724</td>\n",
       "      <td>0.972453</td>\n",
       "      <td>0.661648</td>\n",
       "      <td>00:29</td>\n",
       "    </tr>\n",
       "    <tr>\n",
       "      <td>23</td>\n",
       "      <td>0.740975</td>\n",
       "      <td>1.002403</td>\n",
       "      <td>0.655567</td>\n",
       "      <td>00:29</td>\n",
       "    </tr>\n",
       "    <tr>\n",
       "      <td>24</td>\n",
       "      <td>0.723921</td>\n",
       "      <td>1.025463</td>\n",
       "      <td>0.662323</td>\n",
       "      <td>00:29</td>\n",
       "    </tr>\n",
       "  </tbody>\n",
       "</table>"
      ],
      "text/plain": [
       "<IPython.core.display.HTML object>"
      ]
     },
     "metadata": {},
     "output_type": "display_data"
    },
    {
     "name": "stdout",
     "output_type": "stream",
     "text": [
      "No improvement since epoch 14: early stopping                                                                          \n",
      " 73%|█████████████████████████████████            | 22/30 [1:46:35<57:26, 430.82s/trial, best loss: 0.9050619602203369]"
     ]
    },
    {
     "data": {
      "image/png": "[encoded data removed]",
      "text/plain": [
       "<Figure size 864x288 with 2 Axes>"
      ]
     },
     "metadata": {
      "needs_background": "light"
     },
     "output_type": "display_data"
    },
    {
     "name": "stdout",
     "output_type": "stream",
     "text": [
      "Trying params:                                                                                                         \n",
      "{'batch_size': 512, 'epochs': 10, 'lr': 0.0001, 'optimizer': <function Adam at 0x00000274E06BB438>, 'patience': 5, 'time_steps': 30}\n",
      "OmniScaleCNN                                                                                                           \n",
      " 77%|████████████████████████████████▉          | 23/30 [1:47:04<1:02:22, 534.65s/trial, best loss: 0.9050619602203369]"
     ]
    },
    {
     "data": {
      "text/html": [
       "<table border=\"1\" class=\"dataframe\">\n",
       "  <thead>\n",
       "    <tr style=\"text-align: left;\">\n",
       "      <th>epoch</th>\n",
       "      <th>train_loss</th>\n",
       "      <th>valid_loss</th>\n",
       "      <th>accuracy</th>\n",
       "      <th>time</th>\n",
       "    </tr>\n",
       "  </thead>\n",
       "  <tbody>\n",
       "    <tr>\n",
       "      <td>0</td>\n",
       "      <td>1.198103</td>\n",
       "      <td>1.070451</td>\n",
       "      <td>0.640461</td>\n",
       "      <td>00:26</td>\n",
       "    </tr>\n",
       "    <tr>\n",
       "      <td>1</td>\n",
       "      <td>0.955582</td>\n",
       "      <td>0.988381</td>\n",
       "      <td>0.656725</td>\n",
       "      <td>00:27</td>\n",
       "    </tr>\n",
       "    <tr>\n",
       "      <td>2</td>\n",
       "      <td>0.915328</td>\n",
       "      <td>0.944703</td>\n",
       "      <td>0.665991</td>\n",
       "      <td>00:28</td>\n",
       "    </tr>\n",
       "    <tr>\n",
       "      <td>3</td>\n",
       "      <td>0.905298</td>\n",
       "      <td>0.910989</td>\n",
       "      <td>0.677911</td>\n",
       "      <td>00:28</td>\n",
       "    </tr>\n",
       "    <tr>\n",
       "      <td>4</td>\n",
       "      <td>0.889387</td>\n",
       "      <td>0.936960</td>\n",
       "      <td>0.666811</td>\n",
       "      <td>00:28</td>\n",
       "    </tr>\n",
       "    <tr>\n",
       "      <td>5</td>\n",
       "      <td>0.875456</td>\n",
       "      <td>0.918375</td>\n",
       "      <td>0.665364</td>\n",
       "      <td>00:28</td>\n",
       "    </tr>\n",
       "    <tr>\n",
       "      <td>6</td>\n",
       "      <td>0.859218</td>\n",
       "      <td>0.937901</td>\n",
       "      <td>0.671493</td>\n",
       "      <td>00:28</td>\n",
       "    </tr>\n",
       "    <tr>\n",
       "      <td>7</td>\n",
       "      <td>0.845812</td>\n",
       "      <td>0.925792</td>\n",
       "      <td>0.670479</td>\n",
       "      <td>00:28</td>\n",
       "    </tr>\n",
       "    <tr>\n",
       "      <td>8</td>\n",
       "      <td>0.838030</td>\n",
       "      <td>0.930442</td>\n",
       "      <td>0.670093</td>\n",
       "      <td>00:29</td>\n",
       "    </tr>\n",
       "  </tbody>\n",
       "</table>"
      ],
      "text/plain": [
       "<IPython.core.display.HTML object>"
      ]
     },
     "metadata": {},
     "output_type": "display_data"
    },
    {
     "name": "stdout",
     "output_type": "stream",
     "text": [
      "No improvement since epoch 3: early stopping                                                                           \n",
      " 77%|████████████████████████████████▉          | 23/30 [1:51:17<1:02:22, 534.65s/trial, best loss: 0.9050619602203369]"
     ]
    },
    {
     "data": {
      "image/png": "[encoded data removed]",
      "text/plain": [
       "<Figure size 864x288 with 2 Axes>"
      ]
     },
     "metadata": {
      "needs_background": "light"
     },
     "output_type": "display_data"
    },
    {
     "name": "stdout",
     "output_type": "stream",
     "text": [
      "Trying params:                                                                                                         \n",
      "{'batch_size': 512, 'epochs': 10, 'lr': 0.0001, 'optimizer': <function Adam at 0x00000274E06BB438>, 'patience': 5, 'time_steps': 60}\n",
      "OmniScaleCNN                                                                                                           \n",
      " 80%|████████████████████████████████████         | 24/30 [1:51:48<45:54, 459.06s/trial, best loss: 0.9050619602203369]"
     ]
    },
    {
     "data": {
      "text/html": [
       "<table border=\"1\" class=\"dataframe\">\n",
       "  <thead>\n",
       "    <tr style=\"text-align: left;\">\n",
       "      <th>epoch</th>\n",
       "      <th>train_loss</th>\n",
       "      <th>valid_loss</th>\n",
       "      <th>accuracy</th>\n",
       "      <th>time</th>\n",
       "    </tr>\n",
       "  </thead>\n",
       "  <tbody>\n",
       "    <tr>\n",
       "      <td>0</td>\n",
       "      <td>1.200047</td>\n",
       "      <td>1.135406</td>\n",
       "      <td>0.656194</td>\n",
       "      <td>00:51</td>\n",
       "    </tr>\n",
       "    <tr>\n",
       "      <td>1</td>\n",
       "      <td>0.971284</td>\n",
       "      <td>0.995996</td>\n",
       "      <td>0.658269</td>\n",
       "      <td>00:53</td>\n",
       "    </tr>\n",
       "    <tr>\n",
       "      <td>2</td>\n",
       "      <td>0.907397</td>\n",
       "      <td>0.931878</td>\n",
       "      <td>0.672796</td>\n",
       "      <td>00:53</td>\n",
       "    </tr>\n",
       "    <tr>\n",
       "      <td>3</td>\n",
       "      <td>0.886592</td>\n",
       "      <td>0.909020</td>\n",
       "      <td>0.676222</td>\n",
       "      <td>00:53</td>\n",
       "    </tr>\n",
       "    <tr>\n",
       "      <td>4</td>\n",
       "      <td>0.864075</td>\n",
       "      <td>0.887200</td>\n",
       "      <td>0.675691</td>\n",
       "      <td>00:53</td>\n",
       "    </tr>\n",
       "    <tr>\n",
       "      <td>5</td>\n",
       "      <td>0.858940</td>\n",
       "      <td>0.889794</td>\n",
       "      <td>0.678056</td>\n",
       "      <td>00:53</td>\n",
       "    </tr>\n",
       "    <tr>\n",
       "      <td>6</td>\n",
       "      <td>0.834919</td>\n",
       "      <td>0.878292</td>\n",
       "      <td>0.678249</td>\n",
       "      <td>00:54</td>\n",
       "    </tr>\n",
       "    <tr>\n",
       "      <td>7</td>\n",
       "      <td>0.821862</td>\n",
       "      <td>0.889175</td>\n",
       "      <td>0.677332</td>\n",
       "      <td>00:54</td>\n",
       "    </tr>\n",
       "    <tr>\n",
       "      <td>8</td>\n",
       "      <td>0.819628</td>\n",
       "      <td>0.881946</td>\n",
       "      <td>0.677380</td>\n",
       "      <td>00:53</td>\n",
       "    </tr>\n",
       "    <tr>\n",
       "      <td>9</td>\n",
       "      <td>0.818444</td>\n",
       "      <td>0.879127</td>\n",
       "      <td>0.679118</td>\n",
       "      <td>00:53</td>\n",
       "    </tr>\n",
       "  </tbody>\n",
       "</table>"
      ],
      "text/plain": [
       "<IPython.core.display.HTML object>"
      ]
     },
     "metadata": {},
     "output_type": "display_data"
    },
    {
     "data": {
      "image/png": "[encoded data removed]",
      "text/plain": [
       "<Figure size 864x288 with 2 Axes>"
      ]
     },
     "metadata": {
      "needs_background": "light"
     },
     "output_type": "display_data"
    },
    {
     "name": "stdout",
     "output_type": "stream",
     "text": [
      "Trying params:                                                                                                         \n",
      "{'batch_size': 512, 'epochs': 100, 'lr': 0.0001, 'optimizer': <function Adam at 0x00000274E06BB438>, 'patience': 5, 'time_steps': 60}\n",
      "OmniScaleCNN                                                                                                           \n",
      " 83%|█████████████████████████████████████▌       | 25/30 [2:01:09<40:54, 490.94s/trial, best loss: 0.8791267275810242]"
     ]
    },
    {
     "data": {
      "text/html": [
       "<table border=\"1\" class=\"dataframe\">\n",
       "  <thead>\n",
       "    <tr style=\"text-align: left;\">\n",
       "      <th>epoch</th>\n",
       "      <th>train_loss</th>\n",
       "      <th>valid_loss</th>\n",
       "      <th>accuracy</th>\n",
       "      <th>time</th>\n",
       "    </tr>\n",
       "  </thead>\n",
       "  <tbody>\n",
       "    <tr>\n",
       "      <td>0</td>\n",
       "      <td>1.510166</td>\n",
       "      <td>1.519701</td>\n",
       "      <td>0.566575</td>\n",
       "      <td>00:50</td>\n",
       "    </tr>\n",
       "    <tr>\n",
       "      <td>1</td>\n",
       "      <td>1.343310</td>\n",
       "      <td>1.366901</td>\n",
       "      <td>0.602432</td>\n",
       "      <td>00:52</td>\n",
       "    </tr>\n",
       "    <tr>\n",
       "      <td>2</td>\n",
       "      <td>1.205333</td>\n",
       "      <td>1.215806</td>\n",
       "      <td>0.630134</td>\n",
       "      <td>00:52</td>\n",
       "    </tr>\n",
       "    <tr>\n",
       "      <td>3</td>\n",
       "      <td>1.095078</td>\n",
       "      <td>1.090984</td>\n",
       "      <td>0.646976</td>\n",
       "      <td>00:53</td>\n",
       "    </tr>\n",
       "    <tr>\n",
       "      <td>4</td>\n",
       "      <td>1.014088</td>\n",
       "      <td>1.023898</td>\n",
       "      <td>0.656532</td>\n",
       "      <td>00:55</td>\n",
       "    </tr>\n",
       "    <tr>\n",
       "      <td>5</td>\n",
       "      <td>0.958666</td>\n",
       "      <td>0.962175</td>\n",
       "      <td>0.668018</td>\n",
       "      <td>00:55</td>\n",
       "    </tr>\n",
       "    <tr>\n",
       "      <td>6</td>\n",
       "      <td>0.925850</td>\n",
       "      <td>0.949231</td>\n",
       "      <td>0.668018</td>\n",
       "      <td>00:54</td>\n",
       "    </tr>\n",
       "    <tr>\n",
       "      <td>7</td>\n",
       "      <td>0.902750</td>\n",
       "      <td>0.951035</td>\n",
       "      <td>0.668790</td>\n",
       "      <td>00:54</td>\n",
       "    </tr>\n",
       "    <tr>\n",
       "      <td>8</td>\n",
       "      <td>0.886568</td>\n",
       "      <td>0.925816</td>\n",
       "      <td>0.668018</td>\n",
       "      <td>00:54</td>\n",
       "    </tr>\n",
       "    <tr>\n",
       "      <td>9</td>\n",
       "      <td>0.878130</td>\n",
       "      <td>0.932962</td>\n",
       "      <td>0.667535</td>\n",
       "      <td>00:55</td>\n",
       "    </tr>\n",
       "    <tr>\n",
       "      <td>10</td>\n",
       "      <td>0.871463</td>\n",
       "      <td>0.918453</td>\n",
       "      <td>0.665991</td>\n",
       "      <td>00:53</td>\n",
       "    </tr>\n",
       "    <tr>\n",
       "      <td>11</td>\n",
       "      <td>0.858154</td>\n",
       "      <td>0.914631</td>\n",
       "      <td>0.674388</td>\n",
       "      <td>00:54</td>\n",
       "    </tr>\n",
       "    <tr>\n",
       "      <td>12</td>\n",
       "      <td>0.845781</td>\n",
       "      <td>0.897854</td>\n",
       "      <td>0.674533</td>\n",
       "      <td>00:54</td>\n",
       "    </tr>\n",
       "    <tr>\n",
       "      <td>13</td>\n",
       "      <td>0.841487</td>\n",
       "      <td>0.908714</td>\n",
       "      <td>0.674630</td>\n",
       "      <td>00:54</td>\n",
       "    </tr>\n",
       "    <tr>\n",
       "      <td>14</td>\n",
       "      <td>0.828767</td>\n",
       "      <td>0.894894</td>\n",
       "      <td>0.674919</td>\n",
       "      <td>00:55</td>\n",
       "    </tr>\n",
       "    <tr>\n",
       "      <td>15</td>\n",
       "      <td>0.822443</td>\n",
       "      <td>0.900894</td>\n",
       "      <td>0.675498</td>\n",
       "      <td>00:55</td>\n",
       "    </tr>\n",
       "    <tr>\n",
       "      <td>16</td>\n",
       "      <td>0.810939</td>\n",
       "      <td>0.915827</td>\n",
       "      <td>0.646108</td>\n",
       "      <td>00:53</td>\n",
       "    </tr>\n",
       "    <tr>\n",
       "      <td>17</td>\n",
       "      <td>0.793314</td>\n",
       "      <td>0.955515</td>\n",
       "      <td>0.656773</td>\n",
       "      <td>00:53</td>\n",
       "    </tr>\n",
       "    <tr>\n",
       "      <td>18</td>\n",
       "      <td>0.780461</td>\n",
       "      <td>0.906651</td>\n",
       "      <td>0.675016</td>\n",
       "      <td>00:53</td>\n",
       "    </tr>\n",
       "    <tr>\n",
       "      <td>19</td>\n",
       "      <td>0.776214</td>\n",
       "      <td>0.895552</td>\n",
       "      <td>0.683027</td>\n",
       "      <td>00:54</td>\n",
       "    </tr>\n",
       "  </tbody>\n",
       "</table>"
      ],
      "text/plain": [
       "<IPython.core.display.HTML object>"
      ]
     },
     "metadata": {},
     "output_type": "display_data"
    },
    {
     "name": "stdout",
     "output_type": "stream",
     "text": [
      "No improvement since epoch 14: early stopping                                                                          \n",
      " 83%|█████████████████████████████████████▌       | 25/30 [2:19:09<40:54, 490.94s/trial, best loss: 0.8791267275810242]"
     ]
    },
    {
     "data": {
      "image/png": "[encoded data removed]",
      "text/plain": [
       "<Figure size 864x288 with 2 Axes>"
      ]
     },
     "metadata": {
      "needs_background": "light"
     },
     "output_type": "display_data"
    },
    {
     "name": "stdout",
     "output_type": "stream",
     "text": [
      "Trying params:                                                                                                         \n",
      "{'batch_size': 512, 'epochs': 10, 'lr': 0.0001, 'optimizer': <function Adam at 0x00000274E06BB438>, 'patience': 5, 'time_steps': 60}\n",
      "OmniScaleCNN                                                                                                           \n",
      " 87%|███████████████████████████████████████      | 26/30 [2:19:40<45:02, 675.68s/trial, best loss: 0.8791267275810242]"
     ]
    },
    {
     "data": {
      "text/html": [
       "<table border=\"1\" class=\"dataframe\">\n",
       "  <thead>\n",
       "    <tr style=\"text-align: left;\">\n",
       "      <th>epoch</th>\n",
       "      <th>train_loss</th>\n",
       "      <th>valid_loss</th>\n",
       "      <th>accuracy</th>\n",
       "      <th>time</th>\n",
       "    </tr>\n",
       "  </thead>\n",
       "  <tbody>\n",
       "    <tr>\n",
       "      <td>0</td>\n",
       "      <td>1.186801</td>\n",
       "      <td>1.191155</td>\n",
       "      <td>0.613532</td>\n",
       "      <td>00:50</td>\n",
       "    </tr>\n",
       "    <tr>\n",
       "      <td>1</td>\n",
       "      <td>0.958727</td>\n",
       "      <td>0.933336</td>\n",
       "      <td>0.667825</td>\n",
       "      <td>00:52</td>\n",
       "    </tr>\n",
       "    <tr>\n",
       "      <td>2</td>\n",
       "      <td>0.905760</td>\n",
       "      <td>0.934845</td>\n",
       "      <td>0.662468</td>\n",
       "      <td>00:52</td>\n",
       "    </tr>\n",
       "    <tr>\n",
       "      <td>3</td>\n",
       "      <td>0.881569</td>\n",
       "      <td>0.916518</td>\n",
       "      <td>0.664640</td>\n",
       "      <td>00:52</td>\n",
       "    </tr>\n",
       "    <tr>\n",
       "      <td>4</td>\n",
       "      <td>0.864834</td>\n",
       "      <td>0.908089</td>\n",
       "      <td>0.667535</td>\n",
       "      <td>00:53</td>\n",
       "    </tr>\n",
       "    <tr>\n",
       "      <td>5</td>\n",
       "      <td>0.841634</td>\n",
       "      <td>0.890287</td>\n",
       "      <td>0.671107</td>\n",
       "      <td>00:53</td>\n",
       "    </tr>\n",
       "    <tr>\n",
       "      <td>6</td>\n",
       "      <td>0.827324</td>\n",
       "      <td>0.896845</td>\n",
       "      <td>0.671058</td>\n",
       "      <td>00:53</td>\n",
       "    </tr>\n",
       "    <tr>\n",
       "      <td>7</td>\n",
       "      <td>0.813410</td>\n",
       "      <td>0.894699</td>\n",
       "      <td>0.675740</td>\n",
       "      <td>00:53</td>\n",
       "    </tr>\n",
       "    <tr>\n",
       "      <td>8</td>\n",
       "      <td>0.814969</td>\n",
       "      <td>0.902274</td>\n",
       "      <td>0.670190</td>\n",
       "      <td>00:53</td>\n",
       "    </tr>\n",
       "    <tr>\n",
       "      <td>9</td>\n",
       "      <td>0.807511</td>\n",
       "      <td>0.898004</td>\n",
       "      <td>0.673906</td>\n",
       "      <td>00:54</td>\n",
       "    </tr>\n",
       "  </tbody>\n",
       "</table>"
      ],
      "text/plain": [
       "<IPython.core.display.HTML object>"
      ]
     },
     "metadata": {},
     "output_type": "display_data"
    },
    {
     "data": {
      "image/png": "[encoded data removed]",
      "text/plain": [
       "<Figure size 864x288 with 2 Axes>"
      ]
     },
     "metadata": {
      "needs_background": "light"
     },
     "output_type": "display_data"
    },
    {
     "name": "stdout",
     "output_type": "stream",
     "text": [
      "Trying params:                                                                                                         \n",
      "{'batch_size': 512, 'epochs': 100, 'lr': 0.0001, 'optimizer': <function Adam at 0x00000274E06BB438>, 'patience': 5, 'time_steps': 60}\n",
      "OmniScaleCNN                                                                                                           \n",
      " 90%|████████████████████████████████████████▌    | 27/30 [2:28:59<32:03, 641.07s/trial, best loss: 0.8791267275810242]"
     ]
    },
    {
     "data": {
      "text/html": [
       "<table border=\"1\" class=\"dataframe\">\n",
       "  <thead>\n",
       "    <tr style=\"text-align: left;\">\n",
       "      <th>epoch</th>\n",
       "      <th>train_loss</th>\n",
       "      <th>valid_loss</th>\n",
       "      <th>accuracy</th>\n",
       "      <th>time</th>\n",
       "    </tr>\n",
       "  </thead>\n",
       "  <tbody>\n",
       "    <tr>\n",
       "      <td>0</td>\n",
       "      <td>1.483195</td>\n",
       "      <td>1.582012</td>\n",
       "      <td>0.569905</td>\n",
       "      <td>00:51</td>\n",
       "    </tr>\n",
       "    <tr>\n",
       "      <td>1</td>\n",
       "      <td>1.308363</td>\n",
       "      <td>1.344426</td>\n",
       "      <td>0.599488</td>\n",
       "      <td>00:54</td>\n",
       "    </tr>\n",
       "    <tr>\n",
       "      <td>2</td>\n",
       "      <td>1.169677</td>\n",
       "      <td>1.180880</td>\n",
       "      <td>0.622267</td>\n",
       "      <td>00:54</td>\n",
       "    </tr>\n",
       "    <tr>\n",
       "      <td>3</td>\n",
       "      <td>1.069127</td>\n",
       "      <td>1.079307</td>\n",
       "      <td>0.635684</td>\n",
       "      <td>00:54</td>\n",
       "    </tr>\n",
       "    <tr>\n",
       "      <td>4</td>\n",
       "      <td>1.003163</td>\n",
       "      <td>1.005813</td>\n",
       "      <td>0.641716</td>\n",
       "      <td>00:54</td>\n",
       "    </tr>\n",
       "    <tr>\n",
       "      <td>5</td>\n",
       "      <td>0.960643</td>\n",
       "      <td>0.964583</td>\n",
       "      <td>0.655084</td>\n",
       "      <td>00:54</td>\n",
       "    </tr>\n",
       "    <tr>\n",
       "      <td>6</td>\n",
       "      <td>0.930634</td>\n",
       "      <td>0.923541</td>\n",
       "      <td>0.666088</td>\n",
       "      <td>00:53</td>\n",
       "    </tr>\n",
       "    <tr>\n",
       "      <td>7</td>\n",
       "      <td>0.913708</td>\n",
       "      <td>0.922226</td>\n",
       "      <td>0.667632</td>\n",
       "      <td>00:53</td>\n",
       "    </tr>\n",
       "    <tr>\n",
       "      <td>8</td>\n",
       "      <td>0.895554</td>\n",
       "      <td>0.927856</td>\n",
       "      <td>0.660345</td>\n",
       "      <td>00:53</td>\n",
       "    </tr>\n",
       "    <tr>\n",
       "      <td>9</td>\n",
       "      <td>0.892226</td>\n",
       "      <td>0.923107</td>\n",
       "      <td>0.668694</td>\n",
       "      <td>00:54</td>\n",
       "    </tr>\n",
       "    <tr>\n",
       "      <td>10</td>\n",
       "      <td>0.883703</td>\n",
       "      <td>0.914413</td>\n",
       "      <td>0.671107</td>\n",
       "      <td>00:54</td>\n",
       "    </tr>\n",
       "    <tr>\n",
       "      <td>11</td>\n",
       "      <td>0.874879</td>\n",
       "      <td>0.925450</td>\n",
       "      <td>0.653926</td>\n",
       "      <td>00:54</td>\n",
       "    </tr>\n",
       "    <tr>\n",
       "      <td>12</td>\n",
       "      <td>0.860106</td>\n",
       "      <td>0.930810</td>\n",
       "      <td>0.655084</td>\n",
       "      <td>00:54</td>\n",
       "    </tr>\n",
       "    <tr>\n",
       "      <td>13</td>\n",
       "      <td>0.857156</td>\n",
       "      <td>0.880417</td>\n",
       "      <td>0.675016</td>\n",
       "      <td>00:54</td>\n",
       "    </tr>\n",
       "    <tr>\n",
       "      <td>14</td>\n",
       "      <td>0.842483</td>\n",
       "      <td>0.907230</td>\n",
       "      <td>0.670576</td>\n",
       "      <td>00:54</td>\n",
       "    </tr>\n",
       "    <tr>\n",
       "      <td>15</td>\n",
       "      <td>0.833256</td>\n",
       "      <td>0.884743</td>\n",
       "      <td>0.674871</td>\n",
       "      <td>00:54</td>\n",
       "    </tr>\n",
       "    <tr>\n",
       "      <td>16</td>\n",
       "      <td>0.821957</td>\n",
       "      <td>0.945302</td>\n",
       "      <td>0.649969</td>\n",
       "      <td>00:54</td>\n",
       "    </tr>\n",
       "    <tr>\n",
       "      <td>17</td>\n",
       "      <td>0.812759</td>\n",
       "      <td>0.879944</td>\n",
       "      <td>0.671589</td>\n",
       "      <td>00:53</td>\n",
       "    </tr>\n",
       "    <tr>\n",
       "      <td>18</td>\n",
       "      <td>0.798297</td>\n",
       "      <td>0.896958</td>\n",
       "      <td>0.677477</td>\n",
       "      <td>00:54</td>\n",
       "    </tr>\n",
       "    <tr>\n",
       "      <td>19</td>\n",
       "      <td>0.793067</td>\n",
       "      <td>0.931302</td>\n",
       "      <td>0.670383</td>\n",
       "      <td>00:53</td>\n",
       "    </tr>\n",
       "    <tr>\n",
       "      <td>20</td>\n",
       "      <td>0.775018</td>\n",
       "      <td>0.936109</td>\n",
       "      <td>0.658269</td>\n",
       "      <td>00:53</td>\n",
       "    </tr>\n",
       "    <tr>\n",
       "      <td>21</td>\n",
       "      <td>0.772099</td>\n",
       "      <td>0.934157</td>\n",
       "      <td>0.669466</td>\n",
       "      <td>00:53</td>\n",
       "    </tr>\n",
       "    <tr>\n",
       "      <td>22</td>\n",
       "      <td>0.765515</td>\n",
       "      <td>0.925526</td>\n",
       "      <td>0.655808</td>\n",
       "      <td>00:53</td>\n",
       "    </tr>\n",
       "  </tbody>\n",
       "</table>"
      ],
      "text/plain": [
       "<IPython.core.display.HTML object>"
      ]
     },
     "metadata": {},
     "output_type": "display_data"
    },
    {
     "name": "stdout",
     "output_type": "stream",
     "text": [
      "No improvement since epoch 17: early stopping                                                                          \n",
      " 90%|████████████████████████████████████████▌    | 27/30 [2:49:42<32:03, 641.07s/trial, best loss: 0.8791267275810242]"
     ]
    },
    {
     "data": {
      "image/png": "[encoded data removed]",
      "text/plain": [
       "<Figure size 864x288 with 2 Axes>"
      ]
     },
     "metadata": {
      "needs_background": "light"
     },
     "output_type": "display_data"
    },
    {
     "name": "stdout",
     "output_type": "stream",
     "text": [
      "Trying params:                                                                                                         \n",
      "{'batch_size': 512, 'epochs': 10, 'lr': 0.0001, 'optimizer': <function Adam at 0x00000274E06BB438>, 'patience': 5, 'time_steps': 60}\n",
      "OmniScaleCNN                                                                                                           \n",
      " 93%|██████████████████████████████████████████   | 28/30 [2:50:08<27:41, 830.56s/trial, best loss: 0.8791267275810242]"
     ]
    },
    {
     "data": {
      "text/html": [
       "<table border=\"1\" class=\"dataframe\">\n",
       "  <thead>\n",
       "    <tr style=\"text-align: left;\">\n",
       "      <th>epoch</th>\n",
       "      <th>train_loss</th>\n",
       "      <th>valid_loss</th>\n",
       "      <th>accuracy</th>\n",
       "      <th>time</th>\n",
       "    </tr>\n",
       "  </thead>\n",
       "  <tbody>\n",
       "    <tr>\n",
       "      <td>0</td>\n",
       "      <td>1.217000</td>\n",
       "      <td>1.126574</td>\n",
       "      <td>0.631871</td>\n",
       "      <td>00:50</td>\n",
       "    </tr>\n",
       "    <tr>\n",
       "      <td>1</td>\n",
       "      <td>0.962755</td>\n",
       "      <td>0.966998</td>\n",
       "      <td>0.671782</td>\n",
       "      <td>00:52</td>\n",
       "    </tr>\n",
       "    <tr>\n",
       "      <td>2</td>\n",
       "      <td>0.906156</td>\n",
       "      <td>0.918021</td>\n",
       "      <td>0.673664</td>\n",
       "      <td>00:53</td>\n",
       "    </tr>\n",
       "    <tr>\n",
       "      <td>3</td>\n",
       "      <td>0.884312</td>\n",
       "      <td>0.907103</td>\n",
       "      <td>0.677139</td>\n",
       "      <td>00:52</td>\n",
       "    </tr>\n",
       "    <tr>\n",
       "      <td>4</td>\n",
       "      <td>0.861158</td>\n",
       "      <td>0.910164</td>\n",
       "      <td>0.680276</td>\n",
       "      <td>00:52</td>\n",
       "    </tr>\n",
       "    <tr>\n",
       "      <td>5</td>\n",
       "      <td>0.844356</td>\n",
       "      <td>0.888890</td>\n",
       "      <td>0.676174</td>\n",
       "      <td>00:53</td>\n",
       "    </tr>\n",
       "    <tr>\n",
       "      <td>6</td>\n",
       "      <td>0.833045</td>\n",
       "      <td>0.875529</td>\n",
       "      <td>0.681096</td>\n",
       "      <td>00:53</td>\n",
       "    </tr>\n",
       "    <tr>\n",
       "      <td>7</td>\n",
       "      <td>0.822188</td>\n",
       "      <td>0.892245</td>\n",
       "      <td>0.679649</td>\n",
       "      <td>00:53</td>\n",
       "    </tr>\n",
       "    <tr>\n",
       "      <td>8</td>\n",
       "      <td>0.817069</td>\n",
       "      <td>0.881409</td>\n",
       "      <td>0.682255</td>\n",
       "      <td>00:53</td>\n",
       "    </tr>\n",
       "    <tr>\n",
       "      <td>9</td>\n",
       "      <td>0.813074</td>\n",
       "      <td>0.881854</td>\n",
       "      <td>0.680952</td>\n",
       "      <td>00:53</td>\n",
       "    </tr>\n",
       "  </tbody>\n",
       "</table>"
      ],
      "text/plain": [
       "<IPython.core.display.HTML object>"
      ]
     },
     "metadata": {},
     "output_type": "display_data"
    },
    {
     "data": {
      "image/png": "[encoded data removed]",
      "text/plain": [
       "<Figure size 864x288 with 2 Axes>"
      ]
     },
     "metadata": {
      "needs_background": "light"
     },
     "output_type": "display_data"
    },
    {
     "name": "stdout",
     "output_type": "stream",
     "text": [
      "Trying params:                                                                                                         \n",
      "{'batch_size': 512, 'epochs': 10, 'lr': 0.0001, 'optimizer': <function Adam at 0x00000274E06BB438>, 'patience': 5, 'time_steps': 60}\n",
      "OmniScaleCNN                                                                                                           \n",
      " 97%|███████████████████████████████████████████▌ | 29/30 [2:59:23<12:28, 748.05s/trial, best loss: 0.8791267275810242]"
     ]
    },
    {
     "data": {
      "text/html": [
       "<table border=\"1\" class=\"dataframe\">\n",
       "  <thead>\n",
       "    <tr style=\"text-align: left;\">\n",
       "      <th>epoch</th>\n",
       "      <th>train_loss</th>\n",
       "      <th>valid_loss</th>\n",
       "      <th>accuracy</th>\n",
       "      <th>time</th>\n",
       "    </tr>\n",
       "  </thead>\n",
       "  <tbody>\n",
       "    <tr>\n",
       "      <td>0</td>\n",
       "      <td>1.382161</td>\n",
       "      <td>1.345265</td>\n",
       "      <td>0.589354</td>\n",
       "      <td>00:50</td>\n",
       "    </tr>\n",
       "    <tr>\n",
       "      <td>1</td>\n",
       "      <td>0.983644</td>\n",
       "      <td>0.927612</td>\n",
       "      <td>0.670334</td>\n",
       "      <td>00:52</td>\n",
       "    </tr>\n",
       "    <tr>\n",
       "      <td>2</td>\n",
       "      <td>0.915716</td>\n",
       "      <td>0.898257</td>\n",
       "      <td>0.680903</td>\n",
       "      <td>00:53</td>\n",
       "    </tr>\n",
       "    <tr>\n",
       "      <td>3</td>\n",
       "      <td>0.885768</td>\n",
       "      <td>0.909978</td>\n",
       "      <td>0.672699</td>\n",
       "      <td>00:53</td>\n",
       "    </tr>\n",
       "    <tr>\n",
       "      <td>4</td>\n",
       "      <td>0.870247</td>\n",
       "      <td>0.901678</td>\n",
       "      <td>0.674774</td>\n",
       "      <td>00:53</td>\n",
       "    </tr>\n",
       "    <tr>\n",
       "      <td>5</td>\n",
       "      <td>0.849504</td>\n",
       "      <td>0.910531</td>\n",
       "      <td>0.676029</td>\n",
       "      <td>00:53</td>\n",
       "    </tr>\n",
       "    <tr>\n",
       "      <td>6</td>\n",
       "      <td>0.838905</td>\n",
       "      <td>0.891690</td>\n",
       "      <td>0.677670</td>\n",
       "      <td>00:53</td>\n",
       "    </tr>\n",
       "    <tr>\n",
       "      <td>7</td>\n",
       "      <td>0.821842</td>\n",
       "      <td>0.890958</td>\n",
       "      <td>0.679311</td>\n",
       "      <td>00:53</td>\n",
       "    </tr>\n",
       "    <tr>\n",
       "      <td>8</td>\n",
       "      <td>0.819765</td>\n",
       "      <td>0.880176</td>\n",
       "      <td>0.682158</td>\n",
       "      <td>00:53</td>\n",
       "    </tr>\n",
       "    <tr>\n",
       "      <td>9</td>\n",
       "      <td>0.818373</td>\n",
       "      <td>0.887288</td>\n",
       "      <td>0.679359</td>\n",
       "      <td>00:53</td>\n",
       "    </tr>\n",
       "  </tbody>\n",
       "</table>"
      ],
      "text/plain": [
       "<IPython.core.display.HTML object>"
      ]
     },
     "metadata": {},
     "output_type": "display_data"
    },
    {
     "data": {
      "image/png": "[encoded data removed]",
      "text/plain": [
       "<Figure size 864x288 with 2 Axes>"
      ]
     },
     "metadata": {
      "needs_background": "light"
     },
     "output_type": "display_data"
    },
    {
     "name": "stdout",
     "output_type": "stream",
     "text": [
      "100%|█████████████████████████████████████████████| 30/30 [3:08:15<00:00, 376.50s/trial, best loss: 0.8791267275810242]\n"
     ]
    }
   ],
   "source": [
    "trials = Trials()\n",
    "best = fmin(create_model_hypopt,\n",
    "    space=search_space,\n",
    "    algo=tpe.suggest,\n",
    "    max_evals=30,  # test trials\n",
    "    trials=trials)"
   ]
  },
  {
   "cell_type": "code",
   "execution_count": 35,
   "id": "worse-burning",
   "metadata": {},
   "outputs": [
    {
     "name": "stdout",
     "output_type": "stream",
     "text": [
      "{'bs': 1, 'epochs': 0, 'lr': 3, 'optimizer': 0, 'patience': 0, 'ts': 1}\n"
     ]
    }
   ],
   "source": [
    "print(best)"
   ]
  },
  {
   "cell_type": "code",
   "execution_count": 36,
   "id": "configured-information",
   "metadata": {},
   "outputs": [],
   "source": [
    "from hyperopt import space_eval"
   ]
  },
  {
   "cell_type": "code",
   "execution_count": 37,
   "id": "urban-photographer",
   "metadata": {},
   "outputs": [
    {
     "name": "stdout",
     "output_type": "stream",
     "text": [
      "Best parameters:\n",
      "{'batch_size': 512, 'epochs': 10, 'lr': 0.0001, 'optimizer': <function Adam at 0x00000274E06BB438>, 'patience': 5, 'time_steps': 60}\n"
     ]
    }
   ],
   "source": [
    "print(\"Best parameters:\")\n",
    "print(space_eval(search_space, best))"
   ]
  },
  {
   "cell_type": "code",
   "execution_count": 38,
   "id": "concrete-victor",
   "metadata": {},
   "outputs": [],
   "source": [
    "best_parameters = space_eval(search_space, best)"
   ]
  },
  {
   "cell_type": "code",
   "execution_count": 39,
   "id": "prime-walter",
   "metadata": {},
   "outputs": [],
   "source": [
    "def build_model(params):\n",
    "    # clear memory \n",
    "    gc.collect()\n",
    "    print(\"Trying params:\",params)\n",
    "    batch_size = params[\"batch_size\"]\n",
    "    time_steps = params[\"time_steps\"]\n",
    "    \n",
    "    # Create data loader\n",
    "    tfms  = [None, [Categorize()]]\n",
    "    dsets = TSDatasets(X[:, :, -time_steps:], y, tfms=tfms, splits=splits, inplace=True)\n",
    "    # set num_workers for memory bottleneck\n",
    "    dls   = TSDataLoaders.from_dsets(dsets.train, dsets.valid, bs=[batch_size, batch_size], num_workers=0)\n",
    "    \n",
    "    # Create model\n",
    "    arch = OmniScaleCNN\n",
    "    k = {}\n",
    "    model = create_model(arch, dls=dls, **k)\n",
    "    print(model.__class__.__name__)\n",
    "    \n",
    "    # Training the model\n",
    "    learn = Learner(dls, model, metrics=accuracy, opt_func=params['optimizer'])\n",
    "    start = time.time()\n",
    "    learn.fit_one_cycle(params['epochs'], lr_max=params['lr'],\n",
    "                        cbs=EarlyStoppingCallback(monitor='valid_loss', min_delta=0.0, patience=params['patience']))\n",
    "    learn.plot_metrics()\n",
    "    elapsed = time.time() - start\n",
    "    \n",
    "    # delete tmp variables\n",
    "    del dls\n",
    "    del model\n",
    "    return learn"
   ]
  },
  {
   "cell_type": "code",
   "execution_count": 40,
   "id": "first-appeal",
   "metadata": {},
   "outputs": [
    {
     "name": "stdout",
     "output_type": "stream",
     "text": [
      "Trying params: {'batch_size': 512, 'epochs': 10, 'lr': 0.0001, 'optimizer': <function Adam at 0x00000274E06BB438>, 'patience': 5, 'time_steps': 60}\n",
      "OmniScaleCNN\n"
     ]
    },
    {
     "data": {
      "text/html": [
       "<table border=\"1\" class=\"dataframe\">\n",
       "  <thead>\n",
       "    <tr style=\"text-align: left;\">\n",
       "      <th>epoch</th>\n",
       "      <th>train_loss</th>\n",
       "      <th>valid_loss</th>\n",
       "      <th>accuracy</th>\n",
       "      <th>time</th>\n",
       "    </tr>\n",
       "  </thead>\n",
       "  <tbody>\n",
       "    <tr>\n",
       "      <td>0</td>\n",
       "      <td>1.305229</td>\n",
       "      <td>1.280170</td>\n",
       "      <td>0.578592</td>\n",
       "      <td>00:50</td>\n",
       "    </tr>\n",
       "    <tr>\n",
       "      <td>1</td>\n",
       "      <td>0.984862</td>\n",
       "      <td>0.978112</td>\n",
       "      <td>0.650403</td>\n",
       "      <td>00:52</td>\n",
       "    </tr>\n",
       "    <tr>\n",
       "      <td>2</td>\n",
       "      <td>0.920349</td>\n",
       "      <td>0.903834</td>\n",
       "      <td>0.669900</td>\n",
       "      <td>00:52</td>\n",
       "    </tr>\n",
       "    <tr>\n",
       "      <td>3</td>\n",
       "      <td>0.893103</td>\n",
       "      <td>0.902248</td>\n",
       "      <td>0.675209</td>\n",
       "      <td>00:53</td>\n",
       "    </tr>\n",
       "    <tr>\n",
       "      <td>4</td>\n",
       "      <td>0.878310</td>\n",
       "      <td>0.915841</td>\n",
       "      <td>0.665846</td>\n",
       "      <td>00:53</td>\n",
       "    </tr>\n",
       "    <tr>\n",
       "      <td>5</td>\n",
       "      <td>0.863998</td>\n",
       "      <td>0.887395</td>\n",
       "      <td>0.672796</td>\n",
       "      <td>00:53</td>\n",
       "    </tr>\n",
       "    <tr>\n",
       "      <td>6</td>\n",
       "      <td>0.850770</td>\n",
       "      <td>0.889892</td>\n",
       "      <td>0.675836</td>\n",
       "      <td>00:53</td>\n",
       "    </tr>\n",
       "    <tr>\n",
       "      <td>7</td>\n",
       "      <td>0.840245</td>\n",
       "      <td>0.892571</td>\n",
       "      <td>0.669755</td>\n",
       "      <td>00:53</td>\n",
       "    </tr>\n",
       "    <tr>\n",
       "      <td>8</td>\n",
       "      <td>0.833065</td>\n",
       "      <td>0.885476</td>\n",
       "      <td>0.678539</td>\n",
       "      <td>00:53</td>\n",
       "    </tr>\n",
       "    <tr>\n",
       "      <td>9</td>\n",
       "      <td>0.837000</td>\n",
       "      <td>0.882573</td>\n",
       "      <td>0.678153</td>\n",
       "      <td>00:53</td>\n",
       "    </tr>\n",
       "  </tbody>\n",
       "</table>"
      ],
      "text/plain": [
       "<IPython.core.display.HTML object>"
      ]
     },
     "metadata": {},
     "output_type": "display_data"
    },
    {
     "data": {
      "image/png": "[encoded data removed]",
      "text/plain": [
       "<Figure size 864x288 with 2 Axes>"
      ]
     },
     "metadata": {
      "needs_background": "light"
     },
     "output_type": "display_data"
    }
   ],
   "source": [
    "learn = build_model(best_parameters)"
   ]
  },
  {
   "cell_type": "code",
   "execution_count": 41,
   "id": "level-oracle",
   "metadata": {},
   "outputs": [],
   "source": [
    "dls = learn.dls\n",
    "valid_dl = dls.valid"
   ]
  },
  {
   "cell_type": "code",
   "execution_count": 42,
   "id": "differential-commitment",
   "metadata": {},
   "outputs": [],
   "source": [
    "time_steps = best_parameters[\"time_steps\"]\n",
    "X_test_tmp = X_test[:, :, -time_steps:]"
   ]
  },
  {
   "cell_type": "code",
   "execution_count": 43,
   "id": "funded-drive",
   "metadata": {},
   "outputs": [
    {
     "name": "stdout",
     "output_type": "stream",
     "text": [
      "102430\n"
     ]
    }
   ],
   "source": [
    "test_ds = valid_dl.dataset.add_test(X_test_tmp, y_test)  # use the test data\n",
    "test_dl = valid_dl.new(test_ds)\n",
    "print(test_dl.n)"
   ]
  },
  {
   "cell_type": "code",
   "execution_count": 44,
   "id": "comprehensive-account",
   "metadata": {},
   "outputs": [
    {
     "data": {
      "text/html": [],
      "text/plain": [
       "<IPython.core.display.HTML object>"
      ]
     },
     "metadata": {},
     "output_type": "display_data"
    },
    {
     "data": {
      "text/plain": [
       "(tensor([[4.1431e-01, 3.0119e-01, 1.6893e-01, 8.5959e-02, 2.7307e-02, 2.3020e-03],\n",
       "         [5.8700e-01, 1.1921e-01, 1.5153e-01, 7.2807e-02, 4.8553e-02, 2.0902e-02],\n",
       "         [9.7736e-01, 1.6965e-02, 4.4607e-03, 1.0855e-03, 1.2265e-04, 5.6093e-06],\n",
       "         ...,\n",
       "         [9.7389e-01, 1.6778e-02, 4.9654e-03, 3.1107e-03, 1.0262e-03, 2.3315e-04],\n",
       "         [9.8388e-01, 1.3348e-02, 2.2613e-03, 4.0099e-04, 9.3599e-05, 1.8545e-05],\n",
       "         [8.8205e-01, 9.2235e-02, 2.0958e-02, 4.0019e-03, 6.9071e-04, 6.2963e-05]]),\n",
       " TensorCategory([1, 0, 0,  ..., 0, 0, 0], dtype=torch.int32),\n",
       " tensor([0, 0, 0,  ..., 0, 0, 0]))"
      ]
     },
     "execution_count": 44,
     "metadata": {},
     "output_type": "execute_result"
    }
   ],
   "source": [
    "test_probas, test_targets, test_preds = learn.get_preds(dl=test_dl, with_decoded=True, save_preds=None, save_targs=None)\n",
    "test_probas, test_targets, test_preds"
   ]
  },
  {
   "cell_type": "code",
   "execution_count": 45,
   "id": "boxed-junction",
   "metadata": {},
   "outputs": [
    {
     "name": "stdout",
     "output_type": "stream",
     "text": [
      "accuracy:   0.730177\n",
      "f1 score:   0.687148\n"
     ]
    }
   ],
   "source": [
    "print(f'accuracy: {skm.accuracy_score(test_targets, test_preds):10.6f}')\n",
    "print(f'f1 score: {skm.f1_score(test_targets, test_preds, average=\"weighted\"):10.6f}')"
   ]
  },
  {
   "cell_type": "markdown",
   "id": "unnecessary-consumption",
   "metadata": {},
   "source": [
    "Save the true and predicted results:"
   ]
  },
  {
   "cell_type": "code",
   "execution_count": 46,
   "id": "proud-jurisdiction",
   "metadata": {},
   "outputs": [],
   "source": [
    "y_test_true = test_targets.numpy()\n",
    "y_test_pred = test_preds.numpy()"
   ]
  },
  {
   "cell_type": "code",
   "execution_count": 47,
   "id": "hindu-georgia",
   "metadata": {},
   "outputs": [],
   "source": [
    "np.save('y_true_OmniScaleCNN', y_test_true)\n",
    "np.save('y_pred_OmniScaleCNN', y_test_pred)"
   ]
  }
 ],
 "metadata": {
  "kernelspec": {
   "display_name": "Python 3",
   "language": "python",
   "name": "python3"
  },
  "language_info": {
   "codemirror_mode": {
    "name": "ipython",
    "version": 3
   },
   "file_extension": ".py",
   "mimetype": "text/x-python",
   "name": "python",
   "nbconvert_exporter": "python",
   "pygments_lexer": "ipython3",
   "version": "3.7.9"
  }
 },
 "nbformat": 4,
 "nbformat_minor": 5
}
